{
 "cells": [
  {
   "cell_type": "markdown",
   "id": "6a3b5918-e7e4-4ec0-b44e-488dde4846d4",
   "metadata": {},
   "source": [
    "# Check EFT convergence for `LEFTfield` chains"
   ]
  },
  {
   "cell_type": "code",
   "execution_count": 1,
   "id": "7cc797b2-d93f-4a2b-adfb-3c4ecd4b1d8a",
   "metadata": {},
   "outputs": [
    {
     "data": {
      "text/plain": [
       "<Figure size 600x450 with 0 Axes>"
      ]
     },
     "metadata": {},
     "output_type": "display_data"
    }
   ],
   "source": [
    "from getdist import plots,loadMCSamples\n",
    "import matplotlib.pyplot as plt\n",
    "plt.style.use('Minh_paper_style')\n",
    "import matplotlib\n",
    "import matplotlib.cm\n",
    "from matplotlib.ticker import (FixedLocator, MultipleLocator, FixedFormatter, FormatStrFormatter,\n",
    "                               AutoMinorLocator)\n",
    "\n",
    "fig_path=r'/cobra/u/minh/Beyond2ptMock/results/figs/'\n",
    "analysis_settings_default = {'ignore_rows': '0.0', 'converge_test_limit': '0.95'}\n",
    "analysis_settings_alternative = {'ignore_rows': '0.0', 'converge_test_limit': '0.95',\\\n",
    "                                 'smooth_scale_1D': '0.7', 'smooth_scale_2D': '0.9'}\n",
    "analysis_settings=[analysis_settings_default,analysis_settings_alternative]\n",
    "g=plots.get_single_plotter(analysis_settings=analysis_settings_default)\n",
    "g.settings.figure_legend_frame = False\n",
    "g.settings.legend_colored_text = True\n",
    "g.settings.alpha_filled_add=1.0\n",
    "g.settings.norm_1d_density=True\n",
    "g.settings.title_limit_fontsize=24\n",
    "g.settings.legend_fontsize=18\n",
    "g.settings.legend_frame=False\n",
    "g.settings.legend_frac_subplot_margin=0.0\n",
    "g.settings.axes_fontsize=18\n",
    "g.settings.axes_labelsize=18\n",
    "cmap=matplotlib.cm.get_cmap('viridis')\n",
    "g.settings.colormap_scatter=cmap\n",
    "redpink='#f1006d'\n",
    "\n",
    "sigma8z0_means=[]\n",
    "sigma8z0_lowers=[]\n",
    "sigma8z0_uppers=[]\n",
    "As_means=[]\n",
    "As_lowers=[]\n",
    "As_uppers=[]"
   ]
  },
  {
   "cell_type": "markdown",
   "id": "4b51d8a3-4c82-47b1-8442-63560830921b",
   "metadata": {},
   "source": [
    "## Fixed IC chains"
   ]
  },
  {
   "cell_type": "markdown",
   "id": "b6d1ef65-5f2d-4763-84cd-a05123f96b53",
   "metadata": {},
   "source": [
    "### Twolptsecond_nufft, kmax=0.1"
   ]
  },
  {
   "cell_type": "code",
   "execution_count": 2,
   "id": "6792d348-650f-43f5-94d1-bf5a87ab9ba5",
   "metadata": {},
   "outputs": [
    {
     "name": "stdout",
     "output_type": "stream",
     "text": [
      "Parameter names:\n",
      "alpha\t\\alpha\n",
      "b_K2\tb_{K^2}\n",
      "b_delta\tb_\\delta\n",
      "b_delta2\tb_{\\delta^2}\n",
      "b_lapl(delta)\tb_{\\nabla^2 \\delta}\n",
      "A_s*\tA_s\n",
      "sigma8_z1*\t\\sigma_8(z=1)\n",
      "sigma8_z0*\t\\sigma_8(z=0)\n",
      "\n",
      "Chain name:\n",
      "sampling_bO_2lptsecond_nufft_FOURIER_NGEul1024_L0.14_cube_fixed_highsigma_CLASS_largestep_logP_params_including_As_sigma8z\n",
      "Parameter means:\n",
      "0.8924477683561945\n",
      "-0.6809343240557993\n",
      "2.40347094348568\n",
      "0.8416466786321738\n",
      "-4.195644731298693\n",
      "1.672682418013278e-09\n",
      "0.4436952271150721\n",
      "0.728407659359379\n"
     ]
    }
   ],
   "source": [
    "chain_param_path='/cobra/ptmp/minh/lefty_challenge/flatLCDM/box1/sampling_bO/Eulerian_NUFFT/twolptsecond_nufft/chain1_fixed_highsigma_CLASS_largestep/'\n",
    "chain_prefix='sampling_bO_2lptsecond_nufft_FOURIER_NGEul1024_L0.14_cube_fixed_highsigma_CLASS_largestep_logP_params_including_As_sigma8z'\n",
    "chains=loadMCSamples(chain_param_path+chain_prefix,settings=analysis_settings[1])\n",
    "\n",
    "param_names=chains.getParamNames()\n",
    "print(\"Parameter names:\")\n",
    "print(param_names)\n",
    "print(\"Chain name:\")\n",
    "print(chains.getName())\n",
    "print(\"Parameter means:\")\n",
    "for mean in chains.getMeans():\n",
    "    print(mean)"
   ]
  },
  {
   "cell_type": "code",
   "execution_count": 3,
   "id": "3a35f814-eac5-4cf8-a599-262e40de94b5",
   "metadata": {},
   "outputs": [
    {
     "name": "stdout",
     "output_type": "stream",
     "text": [
      "Sample mean sigma8:\n",
      "0.728407659359379\n",
      "Sample std. sigma8:\n",
      "0.005909237830633737\n",
      "x0 0.68% lower: 0.724 upper: 0.736 (two tail)\n",
      "x0 0.95% lower: 0.716 upper: 0.739 (two tail)\n",
      "x0 0.99% lower: 0.713 upper: 0.741 (two tail)\n",
      "Sample mean A_s:\n",
      "1.672682418013278e-09\n",
      "Sample std. A_s:\n",
      "2.7078190291945675e-11\n",
      "x0 0.68% lower: 0.000 upper: 0.000 (two tail)\n",
      "x0 0.95% lower: 0.000 upper: 0.000 (two tail)\n",
      "x0 0.99% lower: 0.000 upper: 0.000 (two tail)\n"
     ]
    }
   ],
   "source": [
    "chains_margstats=chains.getMargeStats()\n",
    "sigma8_mean=chains.getMeans()[-1]\n",
    "sigma8_std=chains.std(7)\n",
    "sigma8_lims=chains_margstats.parWithName('sigma8_z0').limits\n",
    "print(\"Sample mean sigma8:\")\n",
    "print(sigma8_mean)\n",
    "print(\"Sample std. sigma8:\")\n",
    "print(sigma8_std)\n",
    "for conf, lim in zip(chains.contours,sigma8_lims):\n",
    "    print('x0 %s%% lower: %.3f upper: %.3f (%s)'%(conf, lim.lower, lim.upper, lim.limitType()))\n",
    "\n",
    "sigma8z0_means.append(sigma8_mean)\n",
    "sigma8z0_lowers.append(sigma8_lims[0].lower)\n",
    "sigma8z0_uppers.append(sigma8_lims[0].upper)\n",
    "    \n",
    "As_mean=chains.getMeans()[-3]\n",
    "As_std=chains.std(5)\n",
    "As_lims=chains_margstats.parWithName('A_s').limits\n",
    "print(\"Sample mean A_s:\")\n",
    "print(As_mean)\n",
    "print(\"Sample std. A_s:\")\n",
    "print(As_std)\n",
    "for conf, lim in zip(chains.contours,As_lims):\n",
    "    print('x0 %s%% lower: %.3f upper: %.3f (%s)'%(conf, lim.lower, lim.upper, lim.limitType()))\n",
    "    \n",
    "As_means.append(As_mean)\n",
    "As_lowers.append(As_lims[0].lower)\n",
    "As_uppers.append(As_lims[0].upper)"
   ]
  },
  {
   "cell_type": "markdown",
   "id": "220251b9-8209-434b-b829-f8d7599ef597",
   "metadata": {},
   "source": [
    "### Twolptsecond_nufft, kmax=0.125"
   ]
  },
  {
   "cell_type": "code",
   "execution_count": 4,
   "id": "d559e54b-0c91-47fa-a4a8-61a403fecf72",
   "metadata": {},
   "outputs": [
    {
     "name": "stdout",
     "output_type": "stream",
     "text": [
      "Parameter names:\n",
      "alpha\t\\alpha\n",
      "b_K2\tb_{K^2}\n",
      "b_delta\tb_\\delta\n",
      "b_delta2\tb_{\\delta^2}\n",
      "b_lapl(delta)\tb_{\\nabla^2 \\delta}\n",
      "A_s*\tA_s\n",
      "sigma8_z1*\t\\sigma_8(z=1)\n",
      "sigma8_z0*\t\\sigma_8(z=0)\n",
      "\n",
      "Chain name:\n",
      "sampling_bO_2lptsecond_nufft_FOURIER_NGEul1024_L0.175_cube_fixed_highsigma_CLASS_largestep_logP_params_including_As_sigma8z\n",
      "Parameter means:\n",
      "0.8947610670283843\n",
      "-0.6892473600386934\n",
      "2.3593620921366036\n",
      "0.7977503784622012\n",
      "-3.8000236844167774\n",
      "1.6812579308190545e-09\n",
      "0.4448453217857033\n",
      "0.730295752166965\n"
     ]
    }
   ],
   "source": [
    "chain_param_path='/cobra/ptmp/minh/lefty_challenge/flatLCDM/box1/sampling_bO/Eulerian_NUFFT/twolptsecond_nufft/kmax0125/chain1_fixed_highsigma_CLASS_largestep/'\n",
    "chain_prefix='sampling_bO_2lptsecond_nufft_FOURIER_NGEul1024_L0.175_cube_fixed_highsigma_CLASS_largestep_logP_params_including_As_sigma8z'\n",
    "chains=loadMCSamples(chain_param_path+chain_prefix,settings=analysis_settings[1])\n",
    "\n",
    "param_names=chains.getParamNames()\n",
    "print(\"Parameter names:\")\n",
    "print(param_names)\n",
    "print(\"Chain name:\")\n",
    "print(chains.getName())\n",
    "print(\"Parameter means:\")\n",
    "for mean in chains.getMeans():\n",
    "    print(mean)"
   ]
  },
  {
   "cell_type": "code",
   "execution_count": 5,
   "id": "117a535b-6bc0-4008-9abe-3f692c975735",
   "metadata": {},
   "outputs": [
    {
     "name": "stdout",
     "output_type": "stream",
     "text": [
      "Sample mean sigma8:\n",
      "0.730295752166965\n",
      "Sample std. sigma8:\n",
      "0.001047653760715142\n",
      "x0 0.68% lower: 0.729 upper: 0.731 (two tail)\n",
      "x0 0.95% lower: 0.728 upper: 0.732 (two tail)\n",
      "x0 0.99% lower: 0.728 upper: 0.733 (two tail)\n",
      "Sample mean A_s:\n",
      "1.6812579308190545e-09\n",
      "Sample std. A_s:\n",
      "4.822082711287797e-12\n",
      "x0 0.68% lower: 0.000 upper: 0.000 (two tail)\n",
      "x0 0.95% lower: 0.000 upper: 0.000 (two tail)\n",
      "x0 0.99% lower: 0.000 upper: 0.000 (two tail)\n"
     ]
    }
   ],
   "source": [
    "chains_margstats=chains.getMargeStats()\n",
    "sigma8_mean=chains.getMeans()[-1]\n",
    "sigma8_std=chains.std(7)\n",
    "sigma8_lims=chains_margstats.parWithName('sigma8_z0').limits\n",
    "print(\"Sample mean sigma8:\")\n",
    "print(sigma8_mean)\n",
    "print(\"Sample std. sigma8:\")\n",
    "print(sigma8_std)\n",
    "for conf, lim in zip(chains.contours,sigma8_lims):\n",
    "    print('x0 %s%% lower: %.3f upper: %.3f (%s)'%(conf, lim.lower, lim.upper, lim.limitType()))\n",
    "\n",
    "sigma8z0_means.append(sigma8_mean)\n",
    "sigma8z0_lowers.append(sigma8_lims[0].lower)\n",
    "sigma8z0_uppers.append(sigma8_lims[0].upper)\n",
    "    \n",
    "As_mean=chains.getMeans()[-3]\n",
    "As_std=chains.std(5)\n",
    "As_lims=chains_margstats.parWithName('A_s').limits\n",
    "print(\"Sample mean A_s:\")\n",
    "print(As_mean)\n",
    "print(\"Sample std. A_s:\")\n",
    "print(As_std)\n",
    "for conf, lim in zip(chains.contours,As_lims):\n",
    "    print('x0 %s%% lower: %.3f upper: %.3f (%s)'%(conf, lim.lower, lim.upper, lim.limitType()))\n",
    "    \n",
    "As_means.append(As_mean)\n",
    "As_lowers.append(As_lims[0].lower)\n",
    "As_uppers.append(As_lims[0].upper)"
   ]
  },
  {
   "cell_type": "markdown",
   "id": "0260b85c-8195-4863-a9a9-e415d6b2a208",
   "metadata": {},
   "source": [
    "### Twolptsecond_nufft, kmax=0.14"
   ]
  },
  {
   "cell_type": "code",
   "execution_count": 6,
   "id": "86b80c7b-16ee-4f2d-83b3-558da5034525",
   "metadata": {},
   "outputs": [
    {
     "name": "stdout",
     "output_type": "stream",
     "text": [
      "Parameter names:\n",
      "alpha\t\\alpha\n",
      "b_K2\tb_{K^2}\n",
      "b_delta\tb_\\delta\n",
      "b_delta2\tb_{\\delta^2}\n",
      "b_lapl(delta)\tb_{\\nabla^2 \\delta}\n",
      "A_s*\tA_s\n",
      "sigma8_z1*\t\\sigma_8(z=1)\n",
      "sigma8_z0*\t\\sigma_8(z=0)\n",
      "\n",
      "Chain name:\n",
      "sampling_bO_2lptsecond_nufft_FOURIER_NGEul1024_L0.196_cube_fixed_highsigma_CLASS_largestep_logP_params_including_As_sigma8z\n",
      "Parameter means:\n",
      "0.8905230396569875\n",
      "-0.7195666290356695\n",
      "2.353394503202945\n",
      "0.785585278704251\n",
      "-3.450890349332045\n",
      "1.6653724358841657e-09\n",
      "0.4427383162089403\n",
      "0.7268367133794476\n"
     ]
    }
   ],
   "source": [
    "chain_param_path='/cobra/ptmp/minh/lefty_challenge/flatLCDM/box1/sampling_bO/Eulerian_NUFFT/twolptsecond_nufft/kmax014/chain1_fixed_highsigma_CLASS_largestep/'\n",
    "chain_prefix='sampling_bO_2lptsecond_nufft_FOURIER_NGEul1024_L0.196_cube_fixed_highsigma_CLASS_largestep_logP_params_including_As_sigma8z'\n",
    "chains=loadMCSamples(chain_param_path+chain_prefix,settings=analysis_settings[1])\n",
    "\n",
    "param_names=chains.getParamNames()\n",
    "print(\"Parameter names:\")\n",
    "print(param_names)\n",
    "print(\"Chain name:\")\n",
    "print(chains.getName())\n",
    "print(\"Parameter means:\")\n",
    "for mean in chains.getMeans():\n",
    "    print(mean)"
   ]
  },
  {
   "cell_type": "code",
   "execution_count": 7,
   "id": "d0bb5c54-60ec-4560-a47c-8f5b8c949b5d",
   "metadata": {},
   "outputs": [
    {
     "name": "stdout",
     "output_type": "stream",
     "text": [
      "Sample mean sigma8:\n",
      "0.7268367133794476\n",
      "Sample std. sigma8:\n",
      "0.0014621216988785967\n",
      "x0 0.68% lower: 0.725 upper: 0.728 (two tail)\n",
      "x0 0.95% lower: 0.724 upper: 0.730 (two tail)\n",
      "x0 0.99% lower: 0.723 upper: 0.731 (two tail)\n",
      "Sample mean A_s:\n",
      "1.6653724358841657e-09\n",
      "Sample std. A_s:\n",
      "6.7030283154772724e-12\n",
      "x0 0.68% lower: 0.000 upper: 0.000 (two tail)\n",
      "x0 0.95% lower: 0.000 upper: 0.000 (two tail)\n",
      "x0 0.99% lower: 0.000 upper: 0.000 (two tail)\n"
     ]
    }
   ],
   "source": [
    "chains_margstats=chains.getMargeStats()\n",
    "sigma8_mean=chains.getMeans()[-1]\n",
    "sigma8_std=chains.std(7)\n",
    "sigma8_lims=chains_margstats.parWithName('sigma8_z0').limits\n",
    "print(\"Sample mean sigma8:\")\n",
    "print(sigma8_mean)\n",
    "print(\"Sample std. sigma8:\")\n",
    "print(sigma8_std)\n",
    "for conf, lim in zip(chains.contours,sigma8_lims):\n",
    "    print('x0 %s%% lower: %.3f upper: %.3f (%s)'%(conf, lim.lower, lim.upper, lim.limitType()))\n",
    "\n",
    "sigma8z0_means.append(sigma8_mean)\n",
    "sigma8z0_lowers.append(sigma8_lims[0].lower)\n",
    "sigma8z0_uppers.append(sigma8_lims[0].upper)\n",
    "    \n",
    "As_mean=chains.getMeans()[-3]\n",
    "As_std=chains.std(5)\n",
    "As_lims=chains_margstats.parWithName('A_s').limits\n",
    "print(\"Sample mean A_s:\")\n",
    "print(As_mean)\n",
    "print(\"Sample std. A_s:\")\n",
    "print(As_std)\n",
    "for conf, lim in zip(chains.contours,As_lims):\n",
    "    print('x0 %s%% lower: %.3f upper: %.3f (%s)'%(conf, lim.lower, lim.upper, lim.limitType()))\n",
    "    \n",
    "As_means.append(As_mean)\n",
    "As_lowers.append(As_lims[0].lower)\n",
    "As_uppers.append(As_lims[0].upper)"
   ]
  },
  {
   "cell_type": "markdown",
   "id": "bcddb6d2-fd07-4c2a-b6cf-50dfd898223f",
   "metadata": {},
   "source": [
    "### Twolptsecond_nufft, kmax=0.15"
   ]
  },
  {
   "cell_type": "code",
   "execution_count": 8,
   "id": "0c9ecb2a-cdf4-4d4a-8fbd-77f357532a2e",
   "metadata": {},
   "outputs": [
    {
     "name": "stdout",
     "output_type": "stream",
     "text": [
      "Parameter names:\n",
      "alpha\t\\alpha\n",
      "b_K2\tb_{K^2}\n",
      "b_delta\tb_\\delta\n",
      "b_delta2\tb_{\\delta^2}\n",
      "b_lapl(delta)\tb_{\\nabla^2 \\delta}\n",
      "A_s*\tA_s\n",
      "sigma8_z1*\t\\sigma_8(z=1)\n",
      "sigma8_z0*\t\\sigma_8(z=0)\n",
      "\n",
      "Chain name:\n",
      "sampling_bO_2lptsecond_nufft_FOURIER_NGEul1024_L0.21_cube_fixed_highsigma_CLASS_largestep_logP_params_including_As_sigma8z\n",
      "Parameter means:\n",
      "0.8930741413183287\n",
      "-0.712847941325\n",
      "2.3345311667879214\n",
      "0.7661836105316011\n",
      "-3.434304036813905\n",
      "1.674925017169944e-09\n",
      "0.4440066387281147\n",
      "0.7289188990353798\n"
     ]
    }
   ],
   "source": [
    "chain_param_path='/cobra/ptmp/minh/lefty_challenge/flatLCDM/box1/sampling_bO/Eulerian_NUFFT/twolptsecond_nufft/kmax015/chain1_fixed_highsigma_CLASS_largestep/'\n",
    "chain_prefix='sampling_bO_2lptsecond_nufft_FOURIER_NGEul1024_L0.21_cube_fixed_highsigma_CLASS_largestep_logP_params_including_As_sigma8z'\n",
    "chains=loadMCSamples(chain_param_path+chain_prefix,settings=analysis_settings[1])\n",
    "\n",
    "param_names=chains.getParamNames()\n",
    "print(\"Parameter names:\")\n",
    "print(param_names)\n",
    "print(\"Chain name:\")\n",
    "print(chains.getName())\n",
    "print(\"Parameter means:\")\n",
    "for mean in chains.getMeans():\n",
    "    print(mean)"
   ]
  },
  {
   "cell_type": "code",
   "execution_count": 9,
   "id": "eb0a611b-751e-4187-9a57-410a5eba1cb0",
   "metadata": {},
   "outputs": [
    {
     "name": "stdout",
     "output_type": "stream",
     "text": [
      "Sample mean sigma8:\n",
      "0.7289188990353798\n",
      "Sample std. sigma8:\n",
      "0.0011308340871864944\n",
      "x0 0.68% lower: 0.728 upper: 0.730 (two tail)\n",
      "x0 0.95% lower: 0.727 upper: 0.733 (two tail)\n",
      "x0 0.99% lower: 0.727 upper: 0.734 (two tail)\n",
      "Sample mean A_s:\n",
      "1.674925017169944e-09\n",
      "Sample std. A_s:\n",
      "5.205707449093282e-12\n",
      "x0 0.68% lower: 0.000 upper: 0.000 (two tail)\n",
      "x0 0.95% lower: 0.000 upper: 0.000 (two tail)\n",
      "x0 0.99% lower: 0.000 upper: 0.000 (two tail)\n"
     ]
    }
   ],
   "source": [
    "chains_margstats=chains.getMargeStats()\n",
    "sigma8_mean=chains.getMeans()[-1]\n",
    "sigma8_std=chains.std(7)\n",
    "sigma8_lims=chains_margstats.parWithName('sigma8_z0').limits\n",
    "print(\"Sample mean sigma8:\")\n",
    "print(sigma8_mean)\n",
    "print(\"Sample std. sigma8:\")\n",
    "print(sigma8_std)\n",
    "for conf, lim in zip(chains.contours,sigma8_lims):\n",
    "    print('x0 %s%% lower: %.3f upper: %.3f (%s)'%(conf, lim.lower, lim.upper, lim.limitType()))\n",
    "\n",
    "sigma8z0_means.append(sigma8_mean)\n",
    "sigma8z0_lowers.append(sigma8_lims[0].lower)\n",
    "sigma8z0_uppers.append(sigma8_lims[0].upper)\n",
    "    \n",
    "As_mean=chains.getMeans()[-3]\n",
    "As_std=chains.std(5)\n",
    "As_lims=chains_margstats.parWithName('A_s').limits\n",
    "print(\"Sample mean A_s:\")\n",
    "print(As_mean)\n",
    "print(\"Sample std. A_s:\")\n",
    "print(As_std)\n",
    "for conf, lim in zip(chains.contours,As_lims):\n",
    "    print('x0 %s%% lower: %.3f upper: %.3f (%s)'%(conf, lim.lower, lim.upper, lim.limitType()))\n",
    "    \n",
    "As_means.append(As_mean)\n",
    "As_lowers.append(As_lims[0].lower)\n",
    "As_uppers.append(As_lims[0].upper)"
   ]
  },
  {
   "cell_type": "markdown",
   "id": "d2244bc2-1005-4e42-99e3-1ce7750ed3dc",
   "metadata": {},
   "source": [
    "### Twolptthird_nufft, kmax=0.1"
   ]
  },
  {
   "cell_type": "code",
   "execution_count": 10,
   "id": "d0d156c8-9873-45ca-a4a1-73a4ea1a74b1",
   "metadata": {},
   "outputs": [
    {
     "name": "stdout",
     "output_type": "stream",
     "text": [
      "Parameter names:\n",
      "alpha\t\\alpha\n",
      "b_K2\tb_{K^2}\n",
      "b_K3\tb_{K^3}\n",
      "b_Otd\tb_{\\mathrm{Otd}}\n",
      "b_delta\tb_\\delta\n",
      "b_deltaK2\tb_{\\delta K^2}\n",
      "b_delta2\tb_{\\delta^2}\n",
      "b_delta3\tb_{\\delta^3}\n",
      "b_lapl(delta)\tb_{\\nabla^2 \\delta}\n",
      "A_s*\tA_s\n",
      "sigma8_z1*\t\\sigma_8(z=1)\n",
      "sigma8_z0*\t\\sigma_8(z=0)\n",
      "\n",
      "Chain name:\n",
      "sampling_bO_2lptthird_nufft_FOURIER_NGEul1024_L0.14_cube_fixed_highsigma_CLASS_largestep_logP_params_including_As_sigma8z\n",
      "Parameter means:\n",
      "0.9056793416280314\n",
      "-0.6714532564721067\n",
      "0.16716399177221314\n",
      "-0.02717420820290522\n",
      "2.4655653020292467\n",
      "-0.16053025954735115\n",
      "1.2815521484660286\n",
      "-0.3195528474770416\n",
      "-4.640972319609435\n",
      "1.7226554660781134e-09\n",
      "0.450273523646356\n",
      "0.7392071480310967\n"
     ]
    }
   ],
   "source": [
    "chain_param_path='/cobra/ptmp/minh/lefty_challenge/flatLCDM/box1/sampling_bO/Eulerian_NUFFT/twolptthird_nufft/chain1_fixed_highsigma_CLASS_largestep/'\n",
    "chain_prefix='sampling_bO_2lptthird_nufft_FOURIER_NGEul1024_L0.14_cube_fixed_highsigma_CLASS_largestep_logP_params_including_As_sigma8z'\n",
    "chains=loadMCSamples(chain_param_path+chain_prefix,settings=analysis_settings[1])\n",
    "\n",
    "param_names=chains.getParamNames()\n",
    "print(\"Parameter names:\")\n",
    "print(param_names)\n",
    "print(\"Chain name:\")\n",
    "print(chains.getName())\n",
    "print(\"Parameter means:\")\n",
    "for mean in chains.getMeans():\n",
    "    print(mean)"
   ]
  },
  {
   "cell_type": "code",
   "execution_count": 11,
   "id": "674c703d-f210-447c-8522-41972ac966ec",
   "metadata": {},
   "outputs": [
    {
     "name": "stdout",
     "output_type": "stream",
     "text": [
      "Sample mean sigma8:\n",
      "0.7392071480310967\n",
      "Sample std. sigma8:\n",
      "0.07035157394430044\n",
      "x0 0.68% lower: 0.732 upper: 0.745 (two tail)\n",
      "x0 0.95% lower: 0.728 upper: 0.752 (two tail)\n",
      "x0 0.99% lower: 0.726 upper: 0.755 (two tail)\n",
      "Sample mean A_s:\n",
      "1.7226554660781134e-09\n",
      "Sample std. A_s:\n",
      "0.2664079083942836\n",
      "x0 0.68% lower: 0.000 upper: 0.000 (two tail)\n",
      "x0 0.95% lower: 0.000 upper: 0.000 (two tail)\n",
      "x0 0.99% lower: 0.000 upper: 0.000 (two tail)\n"
     ]
    }
   ],
   "source": [
    "chains_margstats=chains.getMargeStats()\n",
    "sigma8_mean=chains.getMeans()[-1]\n",
    "sigma8_std=chains.std(7)\n",
    "sigma8_lims=chains_margstats.parWithName('sigma8_z0').limits\n",
    "print(\"Sample mean sigma8:\")\n",
    "print(sigma8_mean)\n",
    "print(\"Sample std. sigma8:\")\n",
    "print(sigma8_std)\n",
    "for conf, lim in zip(chains.contours,sigma8_lims):\n",
    "    print('x0 %s%% lower: %.3f upper: %.3f (%s)'%(conf, lim.lower, lim.upper, lim.limitType()))\n",
    "\n",
    "sigma8z0_means.append(sigma8_mean)\n",
    "sigma8z0_lowers.append(sigma8_lims[0].lower)\n",
    "sigma8z0_uppers.append(sigma8_lims[0].upper)\n",
    "    \n",
    "As_mean=chains.getMeans()[-3]\n",
    "As_std=chains.std(5)\n",
    "As_lims=chains_margstats.parWithName('A_s').limits\n",
    "print(\"Sample mean A_s:\")\n",
    "print(As_mean)\n",
    "print(\"Sample std. A_s:\")\n",
    "print(As_std)\n",
    "for conf, lim in zip(chains.contours,As_lims):\n",
    "    print('x0 %s%% lower: %.3f upper: %.3f (%s)'%(conf, lim.lower, lim.upper, lim.limitType()))\n",
    "    \n",
    "As_means.append(As_mean)\n",
    "As_lowers.append(As_lims[0].lower)\n",
    "As_uppers.append(As_lims[0].upper)"
   ]
  },
  {
   "cell_type": "markdown",
   "id": "c268a508-0dec-476a-9e84-ad3793f2a9b0",
   "metadata": {},
   "source": [
    "### Twolptthird_nufft, kmax=0.125"
   ]
  },
  {
   "cell_type": "code",
   "execution_count": 12,
   "id": "94966d3b-617d-42ef-96ad-7e204b831659",
   "metadata": {},
   "outputs": [
    {
     "name": "stdout",
     "output_type": "stream",
     "text": [
      "Parameter names:\n",
      "alpha\t\\alpha\n",
      "b_K2\tb_{K^2}\n",
      "b_K3\tb_{K^3}\n",
      "b_Otd\tb_{\\mathrm{Otd}}\n",
      "b_delta\tb_\\delta\n",
      "b_deltaK2\tb_{\\delta K^2}\n",
      "b_delta2\tb_{\\delta^2}\n",
      "b_delta3\tb_{\\delta^3}\n",
      "b_lapl(delta)\tb_{\\nabla^2 \\delta}\n",
      "A_s*\tA_s\n",
      "sigma8_z1*\t\\sigma_8(z=1)\n",
      "sigma8_z0*\t\\sigma_8(z=0)\n",
      "\n",
      "Chain name:\n",
      "sampling_bO_2lptthird_nufft_FOURIER_NGEul1024_L0.175_cube_fixed_highsigma_CLASS_largestep_logP_params_including_As_sigma8z\n",
      "Parameter means:\n",
      "0.9030308753715973\n",
      "-0.7146147673956543\n",
      "0.4820886197168158\n",
      "0.23078968154590584\n",
      "2.4365408030706783\n",
      "-0.5258567334576467\n",
      "1.3588077090090735\n",
      "-0.23866282118057547\n",
      "-5.13487319021311\n",
      "1.7125976378116049e-09\n",
      "0.44895679524140475\n",
      "0.7370454951737985\n"
     ]
    }
   ],
   "source": [
    "chain_param_path='/cobra/ptmp/minh/lefty_challenge/flatLCDM/box1/sampling_bO/Eulerian_NUFFT/twolptthird_nufft/kmax0125/chain1_fixed_highsigma_CLASS_largestep/'\n",
    "chain_prefix='sampling_bO_2lptthird_nufft_FOURIER_NGEul1024_L0.175_cube_fixed_highsigma_CLASS_largestep_logP_params_including_As_sigma8z'\n",
    "chains=loadMCSamples(chain_param_path+chain_prefix,settings=analysis_settings[1])\n",
    "\n",
    "param_names=chains.getParamNames()\n",
    "print(\"Parameter names:\")\n",
    "print(param_names)\n",
    "print(\"Chain name:\")\n",
    "print(chains.getName())\n",
    "print(\"Parameter means:\")\n",
    "for mean in chains.getMeans():\n",
    "    print(mean)"
   ]
  },
  {
   "cell_type": "code",
   "execution_count": 13,
   "id": "37a6dead-90d1-402e-837c-b512bcf26313",
   "metadata": {},
   "outputs": [
    {
     "name": "stdout",
     "output_type": "stream",
     "text": [
      "Sample mean sigma8:\n",
      "0.7370454951737985\n",
      "Sample std. sigma8:\n",
      "0.04200876739238465\n",
      "x0 0.68% lower: 0.729 upper: 0.743 (two tail)\n",
      "x0 0.95% lower: 0.726 upper: 0.749 (two tail)\n",
      "x0 0.99% lower: 0.724 upper: 0.752 (two tail)\n",
      "Sample mean A_s:\n",
      "1.7125976378116049e-09\n",
      "Sample std. A_s:\n",
      "0.17064442259758203\n",
      "x0 0.68% lower: 0.000 upper: 0.000 (two tail)\n",
      "x0 0.95% lower: 0.000 upper: 0.000 (two tail)\n",
      "x0 0.99% lower: 0.000 upper: 0.000 (two tail)\n"
     ]
    }
   ],
   "source": [
    "chains_margstats=chains.getMargeStats()\n",
    "sigma8_mean=chains.getMeans()[-1]\n",
    "sigma8_std=chains.std(7)\n",
    "sigma8_lims=chains_margstats.parWithName('sigma8_z0').limits\n",
    "print(\"Sample mean sigma8:\")\n",
    "print(sigma8_mean)\n",
    "print(\"Sample std. sigma8:\")\n",
    "print(sigma8_std)\n",
    "for conf, lim in zip(chains.contours,sigma8_lims):\n",
    "    print('x0 %s%% lower: %.3f upper: %.3f (%s)'%(conf, lim.lower, lim.upper, lim.limitType()))\n",
    "\n",
    "sigma8z0_means.append(sigma8_mean)\n",
    "sigma8z0_lowers.append(sigma8_lims[0].lower)\n",
    "sigma8z0_uppers.append(sigma8_lims[0].upper)\n",
    "    \n",
    "As_mean=chains.getMeans()[-3]\n",
    "As_std=chains.std(5)\n",
    "As_lims=chains_margstats.parWithName('A_s').limits\n",
    "print(\"Sample mean A_s:\")\n",
    "print(As_mean)\n",
    "print(\"Sample std. A_s:\")\n",
    "print(As_std)\n",
    "for conf, lim in zip(chains.contours,As_lims):\n",
    "    print('x0 %s%% lower: %.3f upper: %.3f (%s)'%(conf, lim.lower, lim.upper, lim.limitType()))\n",
    "    \n",
    "As_means.append(As_mean)\n",
    "As_lowers.append(As_lims[0].lower)\n",
    "As_uppers.append(As_lims[0].upper)"
   ]
  },
  {
   "cell_type": "markdown",
   "id": "90932d05-c9be-4376-acb0-cf047abce092",
   "metadata": {},
   "source": [
    "### Twolptthird_nufft, kmax=0.14"
   ]
  },
  {
   "cell_type": "code",
   "execution_count": 14,
   "id": "d5ba68da-45a9-4e01-b935-7599a3ad8c53",
   "metadata": {},
   "outputs": [
    {
     "name": "stdout",
     "output_type": "stream",
     "text": [
      "Parameter names:\n",
      "alpha\t\\alpha\n",
      "b_K2\tb_{K^2}\n",
      "b_K3\tb_{K^3}\n",
      "b_Otd\tb_{\\mathrm{Otd}}\n",
      "b_delta\tb_\\delta\n",
      "b_deltaK2\tb_{\\delta K^2}\n",
      "b_delta2\tb_{\\delta^2}\n",
      "b_delta3\tb_{\\delta^3}\n",
      "b_lapl(delta)\tb_{\\nabla^2 \\delta}\n",
      "A_s*\tA_s\n",
      "sigma8_z1*\t\\sigma_8(z=1)\n",
      "sigma8_z0*\t\\sigma_8(z=0)\n",
      "\n",
      "Chain name:\n",
      "sampling_bO_2lptthird_nufft_FOURIER_NGEul1024_L0.196_cube_fixed_highsigma_CLASS_largestep_logP_params_including_As_sigma8z\n",
      "Parameter means:\n",
      "0.9044096123712283\n",
      "-0.7256726695920623\n",
      "0.3937220107048404\n",
      "0.20619900339715938\n",
      "2.405312420593888\n",
      "-0.4153488832753847\n",
      "1.3827668246915243\n",
      "-0.23806189729886598\n",
      "-4.873371054768404\n",
      "1.7177224640880256e-09\n",
      "0.449642256586164\n",
      "0.7381708065659534\n"
     ]
    }
   ],
   "source": [
    "chain_param_path='/cobra/ptmp/minh/lefty_challenge/flatLCDM/box1/sampling_bO/Eulerian_NUFFT/twolptthird_nufft/kmax014/chain1_fixed_highsigma_CLASS_largestep/'\n",
    "chain_prefix='sampling_bO_2lptthird_nufft_FOURIER_NGEul1024_L0.196_cube_fixed_highsigma_CLASS_largestep_logP_params_including_As_sigma8z'\n",
    "chains=loadMCSamples(chain_param_path+chain_prefix,settings=analysis_settings[1])\n",
    "\n",
    "param_names=chains.getParamNames()\n",
    "print(\"Parameter names:\")\n",
    "print(param_names)\n",
    "print(\"Chain name:\")\n",
    "print(chains.getName())\n",
    "print(\"Parameter means:\")\n",
    "for mean in chains.getMeans():\n",
    "    print(mean)"
   ]
  },
  {
   "cell_type": "code",
   "execution_count": 15,
   "id": "272d95a8-e56c-4331-871e-13be105b265f",
   "metadata": {},
   "outputs": [
    {
     "name": "stdout",
     "output_type": "stream",
     "text": [
      "Sample mean sigma8:\n",
      "0.7381708065659534\n",
      "Sample std. sigma8:\n",
      "0.03202845195331888\n",
      "x0 0.68% lower: 0.736 upper: 0.741 (two tail)\n",
      "x0 0.95% lower: 0.734 upper: 0.742 (two tail)\n",
      "x0 0.99% lower: 0.732 upper: 0.743 (two tail)\n",
      "Sample mean A_s:\n",
      "1.7177224640880256e-09\n",
      "Sample std. A_s:\n",
      "0.14142724653987043\n",
      "x0 0.68% lower: 0.000 upper: 0.000 (two tail)\n",
      "x0 0.95% lower: 0.000 upper: 0.000 (two tail)\n",
      "x0 0.99% lower: 0.000 upper: 0.000 (two tail)\n"
     ]
    }
   ],
   "source": [
    "chains_margstats=chains.getMargeStats()\n",
    "sigma8_mean=chains.getMeans()[-1]\n",
    "sigma8_std=chains.std(7)\n",
    "sigma8_lims=chains_margstats.parWithName('sigma8_z0').limits\n",
    "print(\"Sample mean sigma8:\")\n",
    "print(sigma8_mean)\n",
    "print(\"Sample std. sigma8:\")\n",
    "print(sigma8_std)\n",
    "for conf, lim in zip(chains.contours,sigma8_lims):\n",
    "    print('x0 %s%% lower: %.3f upper: %.3f (%s)'%(conf, lim.lower, lim.upper, lim.limitType()))\n",
    "\n",
    "sigma8z0_means.append(sigma8_mean)\n",
    "sigma8z0_lowers.append(sigma8_lims[0].lower)\n",
    "sigma8z0_uppers.append(sigma8_lims[0].upper)\n",
    "    \n",
    "As_mean=chains.getMeans()[-3]\n",
    "As_std=chains.std(5)\n",
    "As_lims=chains_margstats.parWithName('A_s').limits\n",
    "print(\"Sample mean A_s:\")\n",
    "print(As_mean)\n",
    "print(\"Sample std. A_s:\")\n",
    "print(As_std)\n",
    "for conf, lim in zip(chains.contours,As_lims):\n",
    "    print('x0 %s%% lower: %.3f upper: %.3f (%s)'%(conf, lim.lower, lim.upper, lim.limitType()))\n",
    "    \n",
    "As_means.append(As_mean)\n",
    "As_lowers.append(As_lims[0].lower)\n",
    "As_uppers.append(As_lims[0].upper)"
   ]
  },
  {
   "cell_type": "markdown",
   "id": "c5e85745-2ff5-48b8-9682-f8f294a831ed",
   "metadata": {},
   "source": [
    "### Twolptthird_nufft, kmax=0.15"
   ]
  },
  {
   "cell_type": "code",
   "execution_count": 16,
   "id": "5be5423a-9b44-4fb6-a073-0c38530a0e6a",
   "metadata": {},
   "outputs": [
    {
     "name": "stdout",
     "output_type": "stream",
     "text": [
      "Parameter names:\n",
      "alpha\t\\alpha\n",
      "b_K2\tb_{K^2}\n",
      "b_K3\tb_{K^3}\n",
      "b_Otd\tb_{\\mathrm{Otd}}\n",
      "b_delta\tb_\\delta\n",
      "b_deltaK2\tb_{\\delta K^2}\n",
      "b_delta2\tb_{\\delta^2}\n",
      "b_delta3\tb_{\\delta^3}\n",
      "b_lapl(delta)\tb_{\\nabla^2 \\delta}\n",
      "A_s*\tA_s\n",
      "sigma8_z1*\t\\sigma_8(z=1)\n",
      "sigma8_z0*\t\\sigma_8(z=0)\n",
      "\n",
      "Chain name:\n",
      "sampling_bO_2lptthird_nufft_FOURIER_NGEul1024_L0.21_cube_fixed_highsigma_CLASS_largestep_logP_params_including_As_sigma8z\n",
      "Parameter means:\n",
      "0.8989064436583641\n",
      "-0.747386352345558\n",
      "0.41127679668876255\n",
      "0.21677894792150812\n",
      "2.4014754877524997\n",
      "-0.44081585347283786\n",
      "1.4225182228789957\n",
      "-0.22411346803981178\n",
      "-4.860559603765442\n",
      "1.6968703077505393e-09\n",
      "0.4469062652599554\n",
      "0.7336791715062103\n"
     ]
    }
   ],
   "source": [
    "chain_param_path='/cobra/ptmp/minh/lefty_challenge/flatLCDM/box1/sampling_bO/Eulerian_NUFFT/twolptthird_nufft/kmax015/chain1_fixed_highsigma_CLASS_largestep/'\n",
    "chain_prefix='sampling_bO_2lptthird_nufft_FOURIER_NGEul1024_L0.21_cube_fixed_highsigma_CLASS_largestep_logP_params_including_As_sigma8z'\n",
    "chains=loadMCSamples(chain_param_path+chain_prefix,settings=analysis_settings[1])\n",
    "\n",
    "param_names=chains.getParamNames()\n",
    "print(\"Parameter names:\")\n",
    "print(param_names)\n",
    "print(\"Chain name:\")\n",
    "print(chains.getName())\n",
    "print(\"Parameter means:\")\n",
    "for mean in chains.getMeans():\n",
    "    print(mean)"
   ]
  },
  {
   "cell_type": "code",
   "execution_count": 17,
   "id": "d3b0d784-068b-477a-a374-9deb63d826ef",
   "metadata": {},
   "outputs": [
    {
     "name": "stdout",
     "output_type": "stream",
     "text": [
      "Sample mean sigma8:\n",
      "0.7336791715062103\n",
      "Sample std. sigma8:\n",
      "0.02477885792883722\n",
      "x0 0.68% lower: 0.733 upper: 0.734 (two tail)\n",
      "x0 0.95% lower: 0.732 upper: 0.735 (two tail)\n",
      "x0 0.99% lower: 0.731 upper: 0.736 (two tail)\n",
      "Sample mean A_s:\n",
      "1.6968703077505393e-09\n",
      "Sample std. A_s:\n",
      "0.09733982473252263\n",
      "x0 0.68% lower: 0.000 upper: 0.000 (two tail)\n",
      "x0 0.95% lower: 0.000 upper: 0.000 (two tail)\n",
      "x0 0.99% lower: 0.000 upper: 0.000 (two tail)\n"
     ]
    }
   ],
   "source": [
    "chains_margstats=chains.getMargeStats()\n",
    "sigma8_mean=chains.getMeans()[-1]\n",
    "sigma8_std=chains.std(7)\n",
    "sigma8_lims=chains_margstats.parWithName('sigma8_z0').limits\n",
    "print(\"Sample mean sigma8:\")\n",
    "print(sigma8_mean)\n",
    "print(\"Sample std. sigma8:\")\n",
    "print(sigma8_std)\n",
    "for conf, lim in zip(chains.contours,sigma8_lims):\n",
    "    print('x0 %s%% lower: %.3f upper: %.3f (%s)'%(conf, lim.lower, lim.upper, lim.limitType()))\n",
    "\n",
    "sigma8z0_means.append(sigma8_mean)\n",
    "sigma8z0_lowers.append(sigma8_lims[0].lower)\n",
    "sigma8z0_uppers.append(sigma8_lims[0].upper)\n",
    "    \n",
    "As_mean=chains.getMeans()[-3]\n",
    "As_std=chains.std(5)\n",
    "As_lims=chains_margstats.parWithName('A_s').limits\n",
    "print(\"Sample mean A_s:\")\n",
    "print(As_mean)\n",
    "print(\"Sample std. A_s:\")\n",
    "print(As_std)\n",
    "for conf, lim in zip(chains.contours,As_lims):\n",
    "    print('x0 %s%% lower: %.3f upper: %.3f (%s)'%(conf, lim.lower, lim.upper, lim.limitType()))\n",
    "    \n",
    "As_means.append(As_mean)\n",
    "As_lowers.append(As_lims[0].lower)\n",
    "As_uppers.append(As_lims[0].upper)"
   ]
  },
  {
   "cell_type": "markdown",
   "id": "d5c14b2f-8419-4165-bd4e-122104bd6841",
   "metadata": {},
   "source": [
    "## Compute lower and upper 1-sigma constraints"
   ]
  },
  {
   "cell_type": "code",
   "execution_count": 18,
   "id": "7027e568-8426-423f-a167-85b291a947e9",
   "metadata": {},
   "outputs": [],
   "source": [
    "sigma8z0_means=np.asarray(sigma8z0_means)\n",
    "sigma8z0_lowers=np.asarray(sigma8z0_lowers)\n",
    "sigma8z0_uppers=np.asarray(sigma8z0_uppers)\n",
    "sigma8z0_lower_errs=sigma8z0_means-sigma8z0_lowers\n",
    "sigma8z0_upper_errs=sigma8z0_uppers-sigma8z0_means\n",
    "\n",
    "As_means=np.asarray(As_means)\n",
    "As_lowers=np.asarray(As_lowers)\n",
    "As_uppers=np.asarray(As_uppers)\n",
    "As_lower_errs=As_means-As_lowers\n",
    "As_upper_errs=As_uppers-As_means"
   ]
  },
  {
   "cell_type": "code",
   "execution_count": 19,
   "id": "526ff3b2-a327-4897-a30f-99cbc6f56ae6",
   "metadata": {},
   "outputs": [
    {
     "name": "stdout",
     "output_type": "stream",
     "text": [
      "[0.00484143 0.0008709  0.00168804 0.00107452 0.00748519 0.00784481\n",
      " 0.00191299 0.00055109]\n",
      "[0.00752632 0.00119157 0.0013027  0.00066012 0.00565653 0.00586144\n",
      " 0.00236069 0.00062275]\n"
     ]
    }
   ],
   "source": [
    "print(sigma8z0_lower_errs)\n",
    "print(sigma8z0_upper_errs)"
   ]
  },
  {
   "cell_type": "code",
   "execution_count": 20,
   "id": "3a23501e-360f-4ecb-a0d4-6dc17dff1cb0",
   "metadata": {},
   "outputs": [
    {
     "name": "stdout",
     "output_type": "stream",
     "text": [
      "[0.72840766 0.73029575 0.72683671 0.7289189  0.73920715 0.7370455\n",
      " 0.73817081 0.73367917]\n"
     ]
    }
   ],
   "source": [
    "print(sigma8z0_means)"
   ]
  },
  {
   "cell_type": "markdown",
   "id": "db0d7405-e8d0-4936-8f02-0b70aee50f8c",
   "metadata": {},
   "source": [
    "## `kmax` convergence - FixedIC chains"
   ]
  },
  {
   "cell_type": "code",
   "execution_count": 42,
   "id": "0497de65-a234-45d0-82d2-82ff63437c0c",
   "metadata": {},
   "outputs": [
    {
     "data": {
      "image/png": "[encoded data removed]",
      "text/plain": [
       "<Figure size 800x600 with 1 Axes>"
      ]
     },
     "metadata": {},
     "output_type": "display_data"
    }
   ],
   "source": [
    "fig,ax=plt.subplots(facecolor='w')\n",
    "kmax=[0.10,0.125,0.14,0.15]\n",
    "twolptsecond_sigma8z0s=sigma8z0_means[:4]\n",
    "twolptsecond_sigma8z0_errs=[sigma8z0_lower_errs[:4],sigma8z0_upper_errs[:4]]\n",
    "twolptthird_sigma8z0s=sigma8z0_means[4:]\n",
    "twolptthird_sigma8z0_errs=[sigma8z0_lower_errs[4:],sigma8z0_upper_errs[4:]]\n",
    "ax.errorbar(kmax,twolptsecond_sigma8z0s-twolptsecond_sigma8z0s[0],yerr=twolptsecond_sigma8z0_errs,marker='o',ms=5,ls='',color='mediumspringgreen',label='Eulerian, 2nd-order')\n",
    "ax.errorbar(kmax+np.ones_like(kmax)*0.0005,twolptthird_sigma8z0s-twolptsecond_sigma8z0s[0],yerr=twolptthird_sigma8z0_errs,marker='o',ms=5,ls='',c='slateblue',label='Eulerian, 3rd-order')\n",
    "ax.set_ylabel(r'$\\sigma_8\\,(z=0)$',fontsize=28)\n",
    "ax.set_xlabel(r'EFT cutoff $k_{\\mathrm{max}}$',fontsize=28)\n",
    "ax.set_ylim(-0.005,0.020)\n",
    "ax.axhline(y=0.0,ls='--',c='k')\n",
    "ax.text(0.2, 0.1, 'Stage-1', horizontalalignment='center',\n",
    "     verticalalignment='center', transform=ax.transAxes,fontsize=26)\n",
    "ax.legend(frameon=False,fontsize=26,loc='lower left', bbox_to_anchor=(0.3, 0.7))\n",
    "plt.tight_layout()\n",
    "plt.savefig('/cobra/u/minh/Beyond2ptMock/results/figs/fixedIC_sigma8_kmax_convergence_Eulerian_2nd+3rd_bias.pdf')"
   ]
  },
  {
   "cell_type": "code",
   "execution_count": 22,
   "id": "39d58f58-6590-44f0-a73c-cde4c295e5c1",
   "metadata": {},
   "outputs": [
    {
     "data": {
      "image/png": "[encoded data removed]",
      "text/plain": [
       "<Figure size 800x600 with 1 Axes>"
      ]
     },
     "metadata": {},
     "output_type": "display_data"
    }
   ],
   "source": [
    "fig,ax=plt.subplots(facecolor='w')\n",
    "kmax=[0.10,0.125,0.14,0.15]\n",
    "twolptsecond_As=As_means[:4]\n",
    "twolptsecond_As_errs=[As_lower_errs[:4],As_upper_errs[:4]]\n",
    "twolptthird_As=As_means[4:]\n",
    "twolptthird_As_errs=[As_lower_errs[4:],As_upper_errs[4:]]\n",
    "ax.errorbar(kmax,twolptsecond_As-twolptsecond_As[0],yerr=twolptsecond_As_errs,marker='o',ms=5,ls='',color='mediumspringgreen',label='Eulerian, 2nd-order')\n",
    "ax.errorbar(kmax+np.ones_like(kmax)*0.0005,twolptthird_As-twolptsecond_As[0],yerr=twolptthird_As_errs,marker='o',ms=5,ls='',c='slateblue',label='Eulerian, 3rd-order')\n",
    "ax.set_ylabel(r'$A_s$',fontsize=28)\n",
    "ax.set_xlabel(r'EFT cutoff $k_{\\mathrm{max}}$',fontsize=28)\n",
    "ax.set_ylim(-2e-11,8e-11)\n",
    "ax.axhline(y=0.0,ls='--',c='k')\n",
    "ax.text(0.2, 0.1, 'Stage-1', horizontalalignment='center',\n",
    "     verticalalignment='center', transform=ax.transAxes,fontsize=26)\n",
    "ax.legend(frameon=False,fontsize=26,loc='lower left', bbox_to_anchor=(0.325, 0.7))\n",
    "plt.tight_layout()\n",
    "plt.savefig('/cobra/u/minh/Beyond2ptMock/results/figs/fixedIC_As_kmax_convergence_Eulerian_2nd+3rd_bias.pdf')"
   ]
  },
  {
   "cell_type": "markdown",
   "id": "93a8c3e9-09eb-4560-993b-aa71c11b8497",
   "metadata": {},
   "source": [
    "## Free IC chains"
   ]
  },
  {
   "cell_type": "code",
   "execution_count": 23,
   "id": "92120c54-9f07-4d45-a3de-82116a2c694e",
   "metadata": {},
   "outputs": [],
   "source": [
    "freeIC_sigma8z0_means=[]\n",
    "freeIC_sigma8z0_lowers=[]\n",
    "freeIC_sigma8z0_uppers=[]\n",
    "freeIC_As_means=[]\n",
    "freeIC_As_lowers=[]\n",
    "freeIC_As_uppers=[]"
   ]
  },
  {
   "cell_type": "markdown",
   "id": "330b28ae-822c-4df8-b463-84d680201b9e",
   "metadata": {},
   "source": [
    "### Twolptsecond_nufft, kmax=0.1"
   ]
  },
  {
   "cell_type": "code",
   "execution_count": 24,
   "id": "04fbb26a-cdc0-4b35-b56b-f2e9dc7d7b03",
   "metadata": {},
   "outputs": [
    {
     "name": "stdout",
     "output_type": "stream",
     "text": [
      "Parameter names:\n",
      "alpha\t\\alpha\n",
      "b_K2\tb_{K^2}\n",
      "b_delta\tb_\\delta\n",
      "b_delta2\tb_{\\delta^2}\n",
      "b_lapl(delta)\tb_{\\nabla^2 \\delta}\n",
      "A_s*\tA_s\n",
      "sigma8_z1*\t\\sigma_8(z=1)\n",
      "sigma8_z0*\t\\sigma_8(z=0)\n",
      "\n",
      "Chain name:\n",
      "sampling_bO_shat_2lptsecond_nufft_FOURIER_NGEul1024_L0.14_cube_logP_params_including_As_sigma8z\n",
      "Parameter means:\n",
      "1.0207172140985088\n",
      "0.44165818147221236\n",
      "1.718825030850605\n",
      "2.3333065055198348\n",
      "19.793263780283226\n",
      "1.5637476724383376e-09\n",
      "0.42888748152079553\n",
      "0.7040980101913056\n"
     ]
    }
   ],
   "source": [
    "chain_param_path='/cobra/ptmp/minh/lefty_challenge/flatLCDM/box1/sampling_bO_shat/Eulerian_NUFFT/twolptsecond_nufft/chain1a/'\n",
    "chain_prefix='sampling_bO_shat_2lptsecond_nufft_FOURIER_NGEul1024_L0.14_cube_logP_params_including_As_sigma8z'\n",
    "chains=loadMCSamples(chain_param_path+chain_prefix,settings=analysis_settings[0])\n",
    "\n",
    "param_names=chains.getParamNames()\n",
    "print(\"Parameter names:\")\n",
    "print(param_names)\n",
    "print(\"Chain name:\")\n",
    "print(chains.getName())\n",
    "print(\"Parameter means:\")\n",
    "for mean in chains.getMeans():\n",
    "    print(mean)"
   ]
  },
  {
   "cell_type": "code",
   "execution_count": 25,
   "id": "8803f3d9-e76e-4c05-9d76-473379ac78d2",
   "metadata": {},
   "outputs": [
    {
     "name": "stderr",
     "output_type": "stream",
     "text": [
      "WARNING:root:auto bandwidth for b_lapl(delta) very small or failed (h=0.0008119862288190915,N_eff=53315.0). Using fallback (h=0.006184144540441557)\n"
     ]
    },
    {
     "name": "stdout",
     "output_type": "stream",
     "text": [
      "Sample mean sigma8:\n",
      "0.7040980101913056\n",
      "Sample std. sigma8:\n",
      "0.01738008911554827\n",
      "x0 0.68% lower: 0.687 upper: 0.721 (two tail)\n",
      "x0 0.95% lower: 0.670 upper: 0.737 (two tail)\n",
      "x0 0.99% lower: 0.659 upper: 0.755 (two tail)\n",
      "Sample mean A_s:\n",
      "1.5637476724383376e-09\n",
      "Sample std. A_s:\n",
      "7.728228415910442e-11\n",
      "x0 0.68% lower: 0.000 upper: 0.000 (two tail)\n",
      "x0 0.95% lower: 0.000 upper: 0.000 (two tail)\n",
      "x0 0.99% lower: 0.000 upper: 0.000 (two tail)\n"
     ]
    }
   ],
   "source": [
    "chains_margstats=chains.getMargeStats()\n",
    "freeIC_sigma8_mean=chains.getMeans()[-1]\n",
    "freeIC_sigma8_std=chains.std(7)\n",
    "freeIC_sigma8_lims=chains_margstats.parWithName('sigma8_z0').limits\n",
    "print(\"Sample mean sigma8:\")\n",
    "print(freeIC_sigma8_mean)\n",
    "print(\"Sample std. sigma8:\")\n",
    "print(freeIC_sigma8_std)\n",
    "for conf, lim in zip(chains.contours,freeIC_sigma8_lims):\n",
    "    print('x0 %s%% lower: %.3f upper: %.3f (%s)'%(conf, lim.lower, lim.upper, lim.limitType()))\n",
    "\n",
    "freeIC_sigma8z0_means.append(freeIC_sigma8_mean)\n",
    "freeIC_sigma8z0_lowers.append(freeIC_sigma8_lims[0].lower)\n",
    "freeIC_sigma8z0_uppers.append(freeIC_sigma8_lims[0].upper)\n",
    "\n",
    "freeIC_As_mean=chains.getMeans()[-3]\n",
    "freeIC_As_std=chains.std(5)\n",
    "freeIC_As_lims=chains_margstats.parWithName('A_s').limits\n",
    "print(\"Sample mean A_s:\")\n",
    "print(freeIC_As_mean)\n",
    "print(\"Sample std. A_s:\")\n",
    "print(freeIC_As_std)\n",
    "for conf, lim in zip(chains.contours,freeIC_As_lims):\n",
    "    print('x0 %s%% lower: %.3f upper: %.3f (%s)'%(conf, lim.lower, lim.upper, lim.limitType()))\n",
    "    \n",
    "freeIC_As_means.append(freeIC_As_mean)\n",
    "freeIC_As_lowers.append(freeIC_As_lims[0].lower)\n",
    "freeIC_As_uppers.append(freeIC_As_lims[0].upper)"
   ]
  },
  {
   "cell_type": "markdown",
   "id": "096d48a8-5c62-4661-839e-ea78ff191b58",
   "metadata": {},
   "source": [
    "### Twolptsecond_nufft, kmax=0.125"
   ]
  },
  {
   "cell_type": "code",
   "execution_count": null,
   "id": "bad86085-9c94-4585-bba2-bb700cfe4dc1",
   "metadata": {},
   "outputs": [],
   "source": []
  },
  {
   "cell_type": "code",
   "execution_count": null,
   "id": "72b23033-4133-4ca3-8fbe-13b3a3cf8b4e",
   "metadata": {},
   "outputs": [],
   "source": []
  },
  {
   "cell_type": "markdown",
   "id": "45f8df44-0415-4087-a9be-01378107fe02",
   "metadata": {},
   "source": [
    "## Compute lower and upper 1-sigma constraints"
   ]
  },
  {
   "cell_type": "code",
   "execution_count": 26,
   "id": "5329bc61-dfb6-4601-9173-ef60f2c8b96d",
   "metadata": {},
   "outputs": [],
   "source": [
    "freeIC_sigma8z0_means=np.asarray(freeIC_sigma8z0_means)\n",
    "freeIC_sigma8z0_lowers=np.asarray(freeIC_sigma8z0_lowers)\n",
    "freeIC_sigma8z0_uppers=np.asarray(freeIC_sigma8z0_uppers)\n",
    "freeIC_sigma8z0_lower_errs=freeIC_sigma8z0_means-freeIC_sigma8z0_lowers\n",
    "freeIC_sigma8z0_upper_errs=freeIC_sigma8z0_uppers-freeIC_sigma8z0_means\n",
    "\n",
    "freeIC_As_means=np.asarray(freeIC_As_means)\n",
    "freeIC_As_lowers=np.asarray(freeIC_As_lowers)\n",
    "freeIC_As_uppers=np.asarray(freeIC_As_uppers)\n",
    "freeIC_As_lower_errs=freeIC_As_means-freeIC_As_lowers\n",
    "freeIC_As_upper_errs=freeIC_As_uppers-freeIC_As_means"
   ]
  },
  {
   "cell_type": "markdown",
   "id": "64e6c155-2172-4166-8b34-37df0c08d889",
   "metadata": {},
   "source": [
    "## `kmax` convergence - Fixed-IC vs Free-IC chains"
   ]
  },
  {
   "cell_type": "code",
   "execution_count": 43,
   "id": "551a3ac9-eaaa-4d57-a4eb-e0f0a2562292",
   "metadata": {},
   "outputs": [
    {
     "data": {
      "image/png": "[encoded data removed]",
      "text/plain": [
       "<Figure size 800x600 with 1 Axes>"
      ]
     },
     "metadata": {},
     "output_type": "display_data"
    }
   ],
   "source": [
    "fig,ax=plt.subplots(facecolor='w')\n",
    "kmax=[0.10,]\n",
    "fixedIC_sigma8z0s=sigma8z0_means[:len(kmax)]\n",
    "fixedIC_sigma8z0_errs=[sigma8z0_lower_errs[:len(kmax)],sigma8z0_upper_errs[:len(kmax)]]\n",
    "freeIC_sigma8z0s=freeIC_sigma8z0_means\n",
    "freeIC_sigma8z0_errs=[freeIC_sigma8z0_lower_errs,freeIC_sigma8z0_upper_errs]\n",
    "ax.errorbar(kmax,fixedIC_sigma8z0s-freeIC_sigma8z0s[0],yerr=fixedIC_sigma8z0_errs,marker='o',ms=5,ls='',color='mediumspringgreen',label='Stage-1')\n",
    "ax.errorbar(kmax+np.ones_like(kmax)*0.0005,freeIC_sigma8z0s-freeIC_sigma8z0s[0],yerr=freeIC_sigma8z0_errs,marker='o',ms=5,ls='',c='slateblue',label='Stage-2')\n",
    "ax.set_ylabel(r'$\\sigma_8\\,(z=0)$',fontsize=28)\n",
    "ax.set_xlabel(r'EFT cutoff $k_{\\mathrm{max}}$',fontsize=28)\n",
    "ax.set_xlim(0.09,0.14)\n",
    "ax.set_ylim(-0.035,0.035)\n",
    "ax.axhline(y=0.0,ls='--',c='k')\n",
    "ax.text(0.2, 0.1, 'Box-1', horizontalalignment='center',\n",
    "     verticalalignment='center', transform=ax.transAxes,fontsize=26)\n",
    "ax.legend(frameon=False,fontsize=26,loc='lower left', bbox_to_anchor=(0.55, 0.7))\n",
    "plt.tight_layout()\n",
    "plt.savefig('/cobra/u/minh/Beyond2ptMock/results/figs/fixed_vs_freeIC_sigma8_kmax_convergence_Eulerian_2nd_bias.pdf')"
   ]
  },
  {
   "cell_type": "code",
   "execution_count": 41,
   "id": "d9d2c5b5-7dd7-493e-a69b-f7d8deeb4b47",
   "metadata": {},
   "outputs": [
    {
     "data": {
      "text/plain": [
       "1.3678646784157737"
      ]
     },
     "execution_count": 41,
     "metadata": {},
     "output_type": "execute_result"
    }
   ],
   "source": [
    "(fixedIC_sigma8z0s[0]-freeIC_sigma8z0s[0])/np.sqrt(sigma8z0_lower_errs[0]**2+freeIC_sigma8z0_upper_errs[0]**2)"
   ]
  }
 ],
 "metadata": {
  "kernelspec": {
   "display_name": "Python 3",
   "language": "python",
   "name": "python3"
  },
  "language_info": {
   "codemirror_mode": {
    "name": "ipython",
    "version": 3
   },
   "file_extension": ".py",
   "mimetype": "text/x-python",
   "name": "python",
   "nbconvert_exporter": "python",
   "pygments_lexer": "ipython3",
   "version": "3.6.13"
  }
 },
 "nbformat": 4,
 "nbformat_minor": 5
}
