{
 "cells": [
  {
   "cell_type": "code",
   "execution_count": 3,
   "id": "e57703c4-cb41-43ba-8dd2-79e8f7befecd",
   "metadata": {},
   "outputs": [],
   "source": [
    "import numpy as np\n",
    "import h5py as h5\n",
    "from nbodykit.lab import *\n",
    "import matplotlib.pyplot as plt\n",
    "plt.style.use('Minh_paper_style')\n",
    "from matplotlib.ticker import (FixedLocator, MultipleLocator, FixedFormatter, FormatStrFormatter,\n",
    "                               AutoMinorLocator)"
   ]
  },
  {
   "cell_type": "markdown",
   "id": "71cceb77-adb1-4599-8d40-9bc9234270e9",
   "metadata": {},
   "source": [
    "## Check the data box"
   ]
  },
  {
   "cell_type": "code",
   "execution_count": 7,
   "id": "967d327a-05d3-45db-b3c1-cabaa9fbdfe4",
   "metadata": {},
   "outputs": [
    {
     "name": "stdout",
     "output_type": "stream",
     "text": [
      "1099.9983\n",
      "1099.9984\n",
      "1099.9952\n"
     ]
    }
   ],
   "source": [
    "cat_origin='../A_mock_real-space.h5'\n",
    "\n",
    "with h5.File(cat_origin,'r') as fhandle:\n",
    "    galaxies = fhandle['galaxies']\n",
    "    x = galaxies['x'] #each in units of comoving-Mpc/h\n",
    "    y = galaxies['y']\n",
    "    z = galaxies['z']\n",
    "    \n",
    "print(x.max())\n",
    "print(y.max())\n",
    "print(z.max())"
   ]
  },
  {
   "cell_type": "markdown",
   "id": "523f003c-dcaf-4c6d-aa58-3d9b1e24f8ab",
   "metadata": {},
   "source": [
    "## Specify setup"
   ]
  },
  {
   "cell_type": "code",
   "execution_count": 38,
   "id": "717f1885-a769-4b6e-84b5-72c1bd17e49f",
   "metadata": {},
   "outputs": [],
   "source": [
    "cat_processed='../LEFTFIED_input/A_mock_real-space_real_NGEul192.h5'\n",
    "Lbox=1100."
   ]
  },
  {
   "cell_type": "markdown",
   "id": "2280b411-de5f-40db-91f2-aa6e138d3ab1",
   "metadata": {},
   "source": [
    "## Read in original galaxy catalog and compute auto-power using nbodykit"
   ]
  },
  {
   "cell_type": "code",
   "execution_count": 39,
   "id": "c8a06306-64cd-4d59-a180-1298a7725668",
   "metadata": {},
   "outputs": [
    {
     "name": "stdout",
     "output_type": "stream",
     "text": [
      "Nmesh = [256 256 256]\n",
      "BoxSize = [1100. 1100. 1100.]\n",
      "Lx = 1100.0\n",
      "Ly = 1100.0\n",
      "Lz = 1100.0\n",
      "volume = 1331000000.0\n",
      "mode = 1d\n",
      "los = [0, 0, 1]\n",
      "Nmu = 1\n",
      "poles = []\n",
      "dk = 0.005\n",
      "kmin = 0.005\n",
      "kmax = None\n",
      "N1 = 531401\n",
      "N2 = 531401\n",
      "shotnoise = 2504.69984061001\n"
     ]
    }
   ],
   "source": [
    "cat=HDFCatalog(cat_origin)\n",
    "cat['Position']=x[:,None]*(1,0,0)+y[:,None]*(0,1,0)+z[:,None]*(0,0,1)\n",
    "cat.attrs['BoxSize']=1100.\n",
    "mesh_origin = cat.to_mesh(resampler='cic', Nmesh=192, compensated=False, interlaced=False, position='Position')\n",
    "r_origin = FFTPower(mesh_origin, mode='1d', dk=0.005, kmin=0.005)\n",
    "Pk_origin = r_origin.power\n",
    "for k in Pk.attrs:\n",
    "    print(\"%s = %s\" %(k, str(Pk.attrs[k])))"
   ]
  },
  {
   "cell_type": "markdown",
   "id": "6290e9e0-a919-4743-9e78-52a4c8e4405e",
   "metadata": {},
   "source": [
    "## Read in lefty-input galaxy catalog and compute auto-power"
   ]
  },
  {
   "cell_type": "code",
   "execution_count": 40,
   "id": "8de5be3f-554e-4624-8b5a-db358d89623a",
   "metadata": {},
   "outputs": [
    {
     "name": "stdout",
     "output_type": "stream",
     "text": [
      "(192, 192, 192)\n",
      "Nmesh = [256 256 256]\n",
      "BoxSize = [1100. 1100. 1100.]\n",
      "Lx = 1100.0\n",
      "Ly = 1100.0\n",
      "Lz = 1100.0\n",
      "volume = 1331000000.0\n",
      "mode = 1d\n",
      "los = [0, 0, 1]\n",
      "Nmu = 1\n",
      "poles = []\n",
      "dk = 0.005\n",
      "kmin = 0.005\n",
      "kmax = None\n",
      "N1 = 531401\n",
      "N2 = 531401\n",
      "shotnoise = 2504.69984061001\n"
     ]
    }
   ],
   "source": [
    "with h5.File(cat_processed, 'r') as fhandle:\n",
    "    delta=fhandle['real'][()]\n",
    "    print(delta.shape)\n",
    "mesh_leftfield = ArrayMesh(delta,BoxSize=Lbox)\n",
    "r_leftfield = FFTPower(mesh_leftfield, mode='1d', dk=0.005, kmin=0.005)\n",
    "Pk_leftfield = r_leftfield.power\n",
    "for k in Pk.attrs:\n",
    "    print(\"%s = %s\" %(k, str(Pk.attrs[k])))"
   ]
  },
  {
   "cell_type": "markdown",
   "id": "0b6fdfe5-087e-493d-b471-5586566c9c3f",
   "metadata": {},
   "source": [
    "## Get $P_{\\mathrm{lin}}$ from CAMB to compare with the other two"
   ]
  },
  {
   "cell_type": "code",
   "execution_count": 25,
   "id": "66036e28-d291-4880-84db-76d95c9ed30b",
   "metadata": {},
   "outputs": [
    {
     "name": "stderr",
     "output_type": "stream",
     "text": [
      "/u/minh/conda-envs/jupyterlab-env/lib/python3.6/site-packages/mcfit/mcfit.py:126: UserWarning: The default value of lowring has been changed to False, set it to True if you cannot reproduce previous results\n",
      "  warnings.warn(\"The default value of lowring has been changed to False, \"\n"
     ]
    }
   ],
   "source": [
    "redshift = 1.0\n",
    "Omega0_m=0.3111\n",
    "Omega0_b=0.04897468161869667\n",
    "Omega0_cdm=Omega0_m-Omega0_b\n",
    "h=0.6766\n",
    "sigma8=0.8102\n",
    "n_s=0.9665\n",
    "cosmo = cosmology.Cosmology(h=h,Omega0_cdm=Omega0_cdm,Omega0_b=Omega0_b,m_ncdm=[],sigma8=sigma8,n_s=n_s)\n",
    "Plin_CLASS = cosmology.LinearPower(cosmo, redshift, transfer='CLASS')\n",
    "Pnonlin_Zeldovich = cosmology.ZeldovichPower(cosmo, redshift)\n",
    "Pnonlin_HALOFIT = cosmology.HalofitPower(cosmo, redshift)"
   ]
  },
  {
   "cell_type": "markdown",
   "id": "99614928-43ee-4146-a658-ec8495d03635",
   "metadata": {},
   "source": [
    "## Plot power spectra"
   ]
  },
  {
   "cell_type": "code",
   "execution_count": 41,
   "id": "5059b12d-1ca4-4a20-9076-2553cc76d177",
   "metadata": {},
   "outputs": [
    {
     "data": {
      "text/plain": [
       "(0.01, 0.6)"
      ]
     },
     "execution_count": 41,
     "metadata": {},
     "output_type": "execute_result"
    },
    {
     "data": {
      "image/png": "[encoded data removed]",
      "text/plain": [
       "<Figure size 800x600 with 1 Axes>"
      ]
     },
     "metadata": {
      "needs_background": "light"
     },
     "output_type": "display_data"
    }
   ],
   "source": [
    "# print the shot noise subtracted P(k)\n",
    "plt.loglog(Pk_origin['k'], Pk_origin['power'].real, c='b',label=r'$P_{gg}$ original')\n",
    "plt.loglog(Pk_leftfield['k'],Pk_leftfield['power'].real,c='r',ls='--',label=r'$P_{gg}$ leftfield input')\n",
    "plt.loglog(Pk_origin['k'],Plin_CLASS(Pk_origin['k']),c='green',ls='-.',label=r'$P_{mm}$ linear')\n",
    "#plt.loglog(Pk_origin['k'],Pnonlin_HALOFIT(Pk_origin['k']),c='violet',ls=':',label=r'$P_{mm}$ HALOFIT')\n",
    "\n",
    "# format the axes\n",
    "plt.legend()\n",
    "plt.xlabel(r\"$k$ [$h \\ \\mathrm{Mpc}^{-1}$]\")\n",
    "plt.ylabel(r\"$P(k)$ [$h^{-3}\\mathrm{Mpc}^3$]\")\n",
    "plt.xlim(0.01, 0.6)"
   ]
  },
  {
   "cell_type": "markdown",
   "id": "f1ed1320-fa00-4fff-a810-c78a192ae421",
   "metadata": {},
   "source": [
    "## Compute linear galaxy bias $b_1$"
   ]
  },
  {
   "cell_type": "code",
   "execution_count": 36,
   "id": "ea40d188-7ecb-456e-afc8-60b4f57325b0",
   "metadata": {},
   "outputs": [
    {
     "data": {
      "text/plain": [
       "array([2.47124368, 2.76780899, 2.63421143])"
      ]
     },
     "execution_count": 36,
     "metadata": {},
     "output_type": "execute_result"
    }
   ],
   "source": [
    "np.sqrt(Pk_leftfield['power'].real[Pk_leftfield['k']<0.02]/Plin_CLASS(Pk_origin['k'][Pk_leftfield['k']<0.02]))"
   ]
  }
 ],
 "metadata": {
  "kernelspec": {
   "display_name": "Python 3",
   "language": "python",
   "name": "python3"
  },
  "language_info": {
   "codemirror_mode": {
    "name": "ipython",
    "version": 3
   },
   "file_extension": ".py",
   "mimetype": "text/x-python",
   "name": "python",
   "nbconvert_exporter": "python",
   "pygments_lexer": "ipython3",
   "version": "3.6.13"
  }
 },
 "nbformat": 4,
 "nbformat_minor": 5
}
