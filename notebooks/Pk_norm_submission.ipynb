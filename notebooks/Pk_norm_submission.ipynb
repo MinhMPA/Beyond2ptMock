{
 "cells": [
  {
   "cell_type": "markdown",
   "id": "a5beb030",
   "metadata": {},
   "source": [
    "# Short example script for calculating the dimensionless linear power spectrum\n",
    "\n",
    "$$\\Delta(k_\\rm{p},z=1.0) = k_\\rm{p}^3 P_{\\rm{lin}}(k_\\rm{p},z=1.0)$$ at pivot scale $k_\\rm{p} = 0.2\\, h/\\rm{Mpc}$"
   ]
  },
  {
   "cell_type": "markdown",
   "id": "3c0b2ff3-5864-4097-a839-14d0bfb81755",
   "metadata": {},
   "source": [
    "## Import modules, set up settings"
   ]
  },
  {
   "cell_type": "code",
   "execution_count": 5,
   "id": "4d1caed0",
   "metadata": {},
   "outputs": [],
   "source": [
    "import classy\n",
    "from classy import Class\n",
    "import numpy as np\n",
    "import pandas as pd\n",
    "\n",
    "#pivot scale + redshift\n",
    "z_p = 1.0\n",
    "k_p = 0.2 #our pivot scale, in h/Mpc units\n",
    "\n",
    "#settings to configure CLASS computations\n",
    "settings = {\n",
    "    'output': 'mPk', #which quantities we want CLASS to compute\n",
    "    'z_pk' : z_p,\n",
    "    'non linear' : 'none',\n",
    "    \n",
    "    'P_k_max_1/Mpc':1.0 # CLASS uses 1/Mpc units\n",
    "}"
   ]
  },
  {
   "cell_type": "markdown",
   "id": "6428f500-3b38-40dd-855f-ace2577baf15",
   "metadata": {},
   "source": [
    "## Inspect CLASS version"
   ]
  },
  {
   "cell_type": "markdown",
   "id": "acc6e279-76e2-48aa-8411-d74bf09e5fe7",
   "metadata": {},
   "source": [
    "NOTE: For Beyond-2pt submissions, should be ```v.2.9.4```"
   ]
  },
  {
   "cell_type": "code",
   "execution_count": 6,
   "id": "30c19cba-ca5d-4ed3-8565-b071e92d7c3f",
   "metadata": {},
   "outputs": [
    {
     "name": "stdout",
     "output_type": "stream",
     "text": [
      "CLASS version: v2.9.4\n"
     ]
    }
   ],
   "source": [
    "print(f\"CLASS version: {classy.__version__}\")"
   ]
  },
  {
   "cell_type": "markdown",
   "id": "06df4df1-34f3-485a-8951-cb81b2165eeb",
   "metadata": {
    "tags": []
   },
   "source": [
    "## Compute ```norm``` == dimensionless linear matter power spectrum at $k_p$"
   ]
  },
  {
   "cell_type": "markdown",
   "id": "c1ec5b55-6589-4417-94a8-2b17ef7a1c02",
   "metadata": {},
   "source": [
    "### Define function(s)"
   ]
  },
  {
   "cell_type": "code",
   "execution_count": 7,
   "id": "4ddc37ac",
   "metadata": {},
   "outputs": [],
   "source": [
    "def compute_norm(params,z_p=z_p):\n",
    "    #initialize Class instance and set parameters\n",
    "    cosmo = Class();\n",
    "    cosmo.set(settings);\n",
    "    cosmo.set(params)\n",
    "    cosmo.compute()\n",
    "    #print(\"Sigma8(z_pivot):\")\n",
    "    #print(cosmo.sigma(8./cosmo.h(),z_p)) # same as calling cosmo.sigma8\n",
    "    #print(\"Corresponding A_s:\")\n",
    "    #print(cosmo.get_current_derived_parameters(['A_s']))\n",
    "\n",
    "    #if CLASS used shooting method to determine A_s, check that it worked to better that 0.1% in sigma8\n",
    "    #if 'sigma8' in params:\n",
    "        #delta_sigma8 = np.abs((params['sigma8']-cosmo.sigma(8/cosmo.h(),0))/params['sigma8'])\n",
    "        #assert delta_sigma8 < 1.e-3, f\"A_s shooting method caused %.4f fractional bias in sigma8\"%(delta_sigma8)\n",
    "\n",
    "    #h = cosmo.h()\n",
    "    #k_p_CLASS = k_p*h # convert to 1/Mpc units used by CLASS\n",
    "    #norm = k_p**3*cosmo.pk(k_p_CLASS,z_p)*h**3 #factor h**3 to convert P(k) from 1/Mpc to h/Mpc units\n",
    "    sigma8zp = cosmo.sigma(8./cosmo.h(),z_p)\n",
    "    sigma8z0 = cosmo.sigma8()\n",
    "    return sigma8zp, sigma8z0"
   ]
  },
  {
   "cell_type": "markdown",
   "id": "8a7af03e-f66d-4976-b715-02f9e3854c6f",
   "metadata": {},
   "source": [
    "### Compute ```norm``` and $A_s$, then add their columns to the new output files"
   ]
  },
  {
   "cell_type": "markdown",
   "id": "607a4951-07d7-476c-959a-5297554c7e59",
   "metadata": {},
   "source": [
    "This could be done much faster with bash scripts. Here I'm just trying to make it humanly readable using ```python```."
   ]
  },
  {
   "cell_type": "code",
   "execution_count": 20,
   "id": "7af961ed-e226-42a8-bc3a-79ce44494fe6",
   "metadata": {},
   "outputs": [],
   "source": [
    "# Specify the input and output file paths\n",
    "\n",
    "chain_param_path='/cobra/ptmp/minh/lefty_challenge/flatLCDM/box10/sampling_bO_shat/Eulerian_NUFFT/twolptsecond_nufft/'\n",
    "chain_prefix='chain1a/sampling_bO_shat_2lptsecond_nufft_FOURIER_NGEul1024_L0.14_cube_logP_params_including_As_'\n",
    "\n",
    "#chain_param_path='/cobra/ptmp/minh/lefty_challenge/flatLCDM/box1/sampling_bO/Eulerian_NUFFT/'\n",
    "#chain_prefix='twolptsecond_nufft/kmax0125/chain1_fixed_highsigma_CLASS_largestep/sampling_bO_2lptsecond_nufft_FOURIER_NGEul1024_L0.175_cube_fixed_highsigma_CLASS_largestep_logP_params_including_As_'\n",
    "\n",
    "input_files = []\n",
    "output_files = []\n",
    "nr_chains=2\n",
    "for i in range(1,nr_chains+1):\n",
    "    input_files.append(chain_param_path+chain_prefix + str(i) + '.txt')\n",
    "    output_files.append(chain_param_path+chain_prefix+'sigma8z.' + str(i) + '.txt')\n",
    "\n",
    "# Specify the *fixed* fiducial cosmological parameters as a dict\n",
    "\n",
    "params = {\n",
    "    #'h': 0.676225,\n",
    "    'omega_b': 0.0222554,\n",
    "    'omega_cdm': 0.118967,\n",
    "    'n_s': 0.991533,\n",
    "    'N_ur': 2.0328,\n",
    "    'N_ncdm' : 1.0,\n",
    "    'omega_ncdm': 0.00064420,\n",
    "    '100*theta_s' : 1.041533,\n",
    "    'recombination' : 'HyRec',\n",
    "    'tau_reio' : 0.0544,\n",
    "    'P_k_max_1/Mpc': 50.0,\n",
    "    'k_pivot': 0.05,\n",
    "}\n",
    "\n",
    "for in_file, out_file in zip(input_files, output_files):\n",
    "    data = np.genfromtxt(in_file, delimiter=None)\n",
    "    params['A_s'] = data[0,-1]\n",
    "    sigma8zp_0, sigma8z0_0 = compute_norm(params)\n",
    "    sigma8zp = sigma8zp_0 * (data[:,2]/data[0,2])\n",
    "    sigma8z0 = sigma8z0_0 * (data[:,2]/data[0,2])\n",
    "    appended_data = np.column_stack((data, sigma8zp, sigma8z0))\n",
    "    np.savetxt(out_file, appended_data, delimiter=' ')"
   ]
  },
  {
   "cell_type": "code",
   "execution_count": null,
   "id": "6945f3d2-3845-4272-8d2d-6391f9a2dadd",
   "metadata": {},
   "outputs": [],
   "source": []
  }
 ],
 "metadata": {
  "kernelspec": {
   "display_name": "Python 3 (ipykernel)",
   "language": "python",
   "name": "python3"
  },
  "language_info": {
   "codemirror_mode": {
    "name": "ipython",
    "version": 3
   },
   "file_extension": ".py",
   "mimetype": "text/x-python",
   "name": "python",
   "nbconvert_exporter": "python",
   "pygments_lexer": "ipython3",
   "version": "3.9.13"
  }
 },
 "nbformat": 4,
 "nbformat_minor": 5
}
