{
 "cells": [
  {
   "cell_type": "markdown",
   "id": "a5beb030",
   "metadata": {},
   "source": [
    "# Short example script for calculating the dimensionless linear power spectrum\n",
    "\n",
    "$$\\Delta(k_\\rm{p},z=1.0) = k_\\rm{p}^3 P_{\\rm{lin}}(k_\\rm{p},z=1.0)$$ at pivot scale $k_\\rm{p} = 0.2\\, h/\\rm{Mpc}$"
   ]
  },
  {
   "cell_type": "markdown",
   "id": "3c0b2ff3-5864-4097-a839-14d0bfb81755",
   "metadata": {},
   "source": [
    "## Import modules, set up settings"
   ]
  },
  {
   "cell_type": "code",
   "execution_count": 1,
   "id": "4d1caed0",
   "metadata": {},
   "outputs": [],
   "source": [
    "import classy\n",
    "from classy import Class\n",
    "import numpy as np\n",
    "\n",
    "#pivot scale + redshift\n",
    "z_p = 1.0\n",
    "k_p = 0.2 #our pivot scale, in h/Mpc units\n",
    "\n",
    "#settings to configure CLASS computations\n",
    "settings = {\n",
    "    'output': 'mPk', #which quantities we want CLASS to compute\n",
    "    'z_pk' : z_p,\n",
    "    'non linear' : 'none',\n",
    "    'P_k_max_1/Mpc':1.0 # CLASS uses 1/Mpc units\n",
    "}\n"
   ]
  },
  {
   "cell_type": "markdown",
   "id": "6428f500-3b38-40dd-855f-ace2577baf15",
   "metadata": {},
   "source": [
    "## Inspect CLASS version"
   ]
  },
  {
   "cell_type": "markdown",
   "id": "acc6e279-76e2-48aa-8411-d74bf09e5fe7",
   "metadata": {},
   "source": [
    "NOTE: For Beyond-2pt submissions, should be ```v.2.9.4```"
   ]
  },
  {
   "cell_type": "code",
   "execution_count": 2,
   "id": "30c19cba-ca5d-4ed3-8565-b071e92d7c3f",
   "metadata": {},
   "outputs": [
    {
     "name": "stdout",
     "output_type": "stream",
     "text": [
      "CLASS version: v2.9.4\n"
     ]
    }
   ],
   "source": [
    "print(f\"CLASS version: {classy.__version__}\")"
   ]
  },
  {
   "cell_type": "markdown",
   "id": "06df4df1-34f3-485a-8951-cb81b2165eeb",
   "metadata": {
    "tags": []
   },
   "source": [
    "## Compute ```norm``` == dimensionless linear matter power spectrum at $k_p$"
   ]
  },
  {
   "cell_type": "markdown",
   "id": "c1ec5b55-6589-4417-94a8-2b17ef7a1c02",
   "metadata": {},
   "source": [
    "### Define function(s)"
   ]
  },
  {
   "cell_type": "code",
   "execution_count": 3,
   "id": "4ddc37ac",
   "metadata": {},
   "outputs": [],
   "source": [
    "def compute_norm(params):\n",
    "    #initialize Class instance and set parameters\n",
    "    cosmo = Class();\n",
    "    cosmo.set(settings);\n",
    "    cosmo.set(params)\n",
    "    cosmo.compute()\n",
    "\n",
    "    #if CLASS used shooting method to determine A_s, check that it worked to better that 0.1% in sigma8\n",
    "    if 'sigma8' in params:\n",
    "        delta_sigma8 = np.abs((params['sigma8']-cosmo.sigma(8/cosmo.h(),0))/params['sigma8'])\n",
    "        assert delta_sigma8 < 1.e-3, f\"A_s shooting method caused %.4f fractional bias in sigma8\"%(delta_sigma8)\n",
    "\n",
    "    h = cosmo.h()\n",
    "    k_p_CLASS = k_p*h # convert to 1/Mpc units used by CLASS\n",
    "    norm = k_p**3*cosmo.pk(k_p_CLASS,z_p)*h**3 #factor h**3 to convert P(k) from 1/Mpc to h/Mpc units\n",
    "    return norm"
   ]
  },
  {
   "cell_type": "markdown",
   "id": "6422b559-a304-4e08-9fe5-0b5e1ee49ac7",
   "metadata": {},
   "source": [
    "### Test CLASS with fiducial cosmology"
   ]
  },
  {
   "cell_type": "markdown",
   "id": "3dd37e57-000e-41b1-ac87-ac48de941190",
   "metadata": {},
   "source": [
    "Test whether we recover the same ```norm``` when specifying either $\\sigma_8$ or $A_s$.\n",
    "Really should be the same for linear $P_L(k)$ + standard cosmology."
   ]
  },
  {
   "cell_type": "code",
   "execution_count": 4,
   "id": "a0237749-d669-42fa-99e8-eba931e1c845",
   "metadata": {},
   "outputs": [
    {
     "name": "stdout",
     "output_type": "stream",
     "text": [
      "(norm_As==norm_sigma8)?\n",
      "True\n"
     ]
    }
   ],
   "source": [
    "test_params_sigma8 = {\n",
    "    'omega_b': 0.0222554,\n",
    "    'omega_cdm': 0.118967,\n",
    "    'sigma8': 0.816,\n",
    "    #'A_s': 2.1e-09,\n",
    "    'n_s': 0.991533,\n",
    "    'N_ur': 2.0328,\n",
    "    'N_ncdm' : 1.0,\n",
    "    'omega_ncdm': 0.00064420,\n",
    "    'recombination' : 'HyRec',\n",
    "    'tau_reio' : 0.0544\n",
    "}\n",
    "\n",
    "norm_sigma8 = compute_norm(test_params_sigma8)\n",
    "\n",
    "test_params_As = {\n",
    "    'omega_b': 0.0222554,\n",
    "    'omega_cdm': 0.118967,\n",
    "    #'sigma8': 0.84,\n",
    "    'A_s': 2.1e-09,\n",
    "    'n_s': 0.991533,\n",
    "    'N_ur': 2.0328,\n",
    "    'N_ncdm' : 1.0,\n",
    "    'omega_ncdm': 0.00064420,\n",
    "    'recombination' : 'HyRec',\n",
    "    'tau_reio' : 0.0544\n",
    "}\n",
    "norm_As = compute_norm(test_params_As)\n",
    "\n",
    "print(\"(norm_As==norm_sigma8)?\")\n",
    "print(np.isclose(norm_sigma8,norm_As,rtol=1e-05, atol=1e-14))"
   ]
  },
  {
   "cell_type": "markdown",
   "id": "8a7af03e-f66d-4976-b715-02f9e3854c6f",
   "metadata": {},
   "source": [
    "### Compute ```norm``` and $A_s$, then add their columns to the new output files"
   ]
  },
  {
   "cell_type": "markdown",
   "id": "607a4951-07d7-476c-959a-5297554c7e59",
   "metadata": {},
   "source": [
    "This could be done much faster with bash scripts. Here I'm just trying to make it humanly readable using ```python```."
   ]
  },
  {
   "cell_type": "code",
   "execution_count": 5,
   "id": "7af961ed-e226-42a8-bc3a-79ce44494fe6",
   "metadata": {},
   "outputs": [
    {
     "name": "stdout",
     "output_type": "stream",
     "text": [
      "File processing complete. Outputs are save at:\n",
      "['/cobra/ptmp/minh/lefty_challenge/flatLCDM/box1/sampling_bO/Eulerian_NUFFT/twolptthird_nufft/kmax015/chain1_fixed_highsigma/sampling_bO_2lptthird_nufft_FOURIER_NGEul1024_L0.21_cube_logP_params_include_norm_As.1.txt', '/cobra/ptmp/minh/lefty_challenge/flatLCDM/box1/sampling_bO/Eulerian_NUFFT/twolptthird_nufft/kmax015/chain1/sampling_bO_2lptthird_nufft_FOURIER_NGEul1024_L0.21_cube_logP_params_include_norm_As.1.txt']\n"
     ]
    }
   ],
   "source": [
    "# Specify the input and output file paths\n",
    "\n",
    "chain_param_path='/cobra/ptmp/minh/lefty_challenge/flatLCDM/box1/sampling_bO/Eulerian_NUFFT/twolptthird_nufft/kmax015/'\n",
    "chain_prefix=['chain1_fixed_highsigma/sampling_bO_2lptthird_nufft_FOURIER_NGEul1024_L0.21_cube_logP_params','chain1/sampling_bO_2lptthird_nufft_FOURIER_NGEul1024_L0.21_cube_logP_params']\n",
    "\n",
    "input_files = []\n",
    "output_files = []\n",
    "for chain in chain_prefix:\n",
    "    input_files.append(chain_param_path+chain+'.1.txt')\n",
    "    output_files.append(chain_param_path+chain+'_include_norm_As.1.txt')\n",
    "\n",
    "# Specify the *fixed* fiducial cosmological parameters as a dict\n",
    "\n",
    "params = {\n",
    "    'omega_b': 0.0222554,\n",
    "    'omega_cdm': 0.118967,\n",
    "    'n_s': 0.991533,\n",
    "    'N_ur': 2.0328,\n",
    "    'N_ncdm' : 1.0,\n",
    "    'omega_ncdm': 0.00064420,\n",
    "    'recombination' : 'HyRec',\n",
    "    'tau_reio' : 0.0544\n",
    "}\n",
    "    \n",
    "# Specify fiducial value of As\n",
    "# This fiducial value was used to generate the fiducial input linear P(k) for LEFTfield\n",
    "# LEFTfield only infers alpha = As/As_fid\n",
    "As_fid = 2.1e-9 ## Planck 2018, TT,TE,EE+lowE+lensing; Table 2 of arXiv:1807.06209\n",
    "\n",
    "# Open input and output files\n",
    "for (input_file,output_file) in zip(input_files,output_files):\n",
    "    with open(input_file, 'r') as file:\n",
    "        with open(output_file, 'w') as output:\n",
    "            for line in file:\n",
    "                columns = line.split()\n",
    "                if line.startswith('#'):\n",
    "                    columns.insert(3, 'norm')\n",
    "                    columns.insert(4, 'A_s')\n",
    "                    output.write('\\t'.join(columns) + '\\n')\n",
    "                else:\n",
    "                    As = float(columns[2]) * As_fid\n",
    "                    params['A_s'] = As\n",
    "                    norm = compute_norm(params)\n",
    "                    # Insert the product as a new column between column 2 and 3\n",
    "                    columns.insert(3, str(norm))\n",
    "                    columns.insert(4, str(As))\n",
    "                    # Write the modified line to the output file\n",
    "                output.write('\\t'.join(columns) + '\\n')\n",
    "\n",
    "print(\"File processing complete. Outputs are save at:\")\n",
    "print(output_files)"
   ]
  },
  {
   "cell_type": "markdown",
   "id": "805dbdcf-45c6-451a-b057-8780b783057d",
   "metadata": {},
   "source": [
    "### Check format of output files"
   ]
  },
  {
   "cell_type": "code",
   "execution_count": 7,
   "id": "aa4c3b73-b6f1-4446-a7e0-0820b4b00a64",
   "metadata": {},
   "outputs": [
    {
     "name": "stdout",
     "output_type": "stream",
     "text": [
      "Number of raw MCMC samples:\n",
      "8430\n",
      "Unweighted mean norm:\n",
      "5.282092100615641\n",
      "Unweighted mean As:\n",
      "1.8875540450814366e-09\n"
     ]
    }
   ],
   "source": [
    "out_norm = np.loadtxt(output_files[0],usecols=2)\n",
    "out_As = np.loadtxt(output_files[0],usecols=3)\n",
    "print(\"Number of raw MCMC samples:\")\n",
    "print(out_norm.shape[0])\n",
    "print(\"Unweighted mean norm:\")\n",
    "print(out_norm.mean())\n",
    "print(\"Unweighted mean As:\")\n",
    "print(out_As.mean())\n",
    "    "
   ]
  },
  {
   "cell_type": "code",
   "execution_count": null,
   "id": "08869160-f2f1-4729-8d10-8a17d850f400",
   "metadata": {},
   "outputs": [],
   "source": []
  }
 ],
 "metadata": {
  "kernelspec": {
   "display_name": "Python 3 (ipykernel)",
   "language": "python",
   "name": "python3"
  },
  "language_info": {
   "codemirror_mode": {
    "name": "ipython",
    "version": 3
   },
   "file_extension": ".py",
   "mimetype": "text/x-python",
   "name": "python",
   "nbconvert_exporter": "python",
   "pygments_lexer": "ipython3",
   "version": "3.9.13"
  }
 },
 "nbformat": 4,
 "nbformat_minor": 5
}
