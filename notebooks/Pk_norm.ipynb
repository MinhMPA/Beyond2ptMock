{
 "cells": [
  {
   "cell_type": "markdown",
   "id": "a5beb030",
   "metadata": {},
   "source": [
    "Short example script for calculating $\\Delta(k_\\rm{p},z=1.0) = k_\\rm{p}^3 P_{\\rm{lin}}(k_\\rm{p},z=1.0)$ at pivot scale $k_\\rm{p} = 0.2\\, h/\\rm{Mpc}$:"
   ]
  },
  {
   "cell_type": "code",
   "execution_count": 6,
   "id": "4d1caed0",
   "metadata": {},
   "outputs": [],
   "source": [
    "from classy import Class\n",
    "import numpy as np\n",
    "\n",
    "#pivot scale + redshift\n",
    "z_p = 1.0\n",
    "k_p = 0.2 #our pivot scale, in h/Mpc units\n",
    "\n",
    "#settings to configure CLASS computations\n",
    "settings = {\n",
    "    'output': 'mPk', #which quantities we want CLASS to compute\n",
    "    'z_pk' : z_p,\n",
    "    'non linear' : 'none',\n",
    "    'P_k_max_1/Mpc':1.0 # CLASS uses 1/Mpc units\n",
    "}\n"
   ]
  },
  {
   "cell_type": "code",
   "execution_count": 2,
   "id": "4ddc37ac",
   "metadata": {},
   "outputs": [],
   "source": [
    "def compute_norm(params):\n",
    "    #initialize Class instance and set parameters\n",
    "    cosmo = Class();\n",
    "    cosmo.set(settings);\n",
    "    cosmo.set(params)\n",
    "    cosmo.compute()\n",
    "    #print(cosmo.get_current_derived_parameters(['A_s']))\n",
    "\n",
    "    #if CLASS used shooting method to determine A_s, check that it worked to better that 0.1% in sigma8\n",
    "    if 'sigma8' in params:\n",
    "        delta_sigma8 = np.abs((params['sigma8']-cosmo.sigma(8/cosmo.h(),0))/params['sigma8'])\n",
    "        assert delta_sigma8 < 1.e-3, f\"A_s shooting method caused %.4f fractional bias in sigma8\"%(delta_sigma8)\n",
    "\n",
    "    h = cosmo.h()\n",
    "    k_p_CLASS = k_p*h # convert to 1/Mpc units used by CLASS\n",
    "    norm = k_p**3*cosmo.pk(k_p_CLASS,z_p)*h**3 #factor h**3 to convert P(k) from 1/Mpc to h/Mpc units\n",
    "    return norm"
   ]
  },
  {
   "cell_type": "markdown",
   "id": "9530530d",
   "metadata": {},
   "source": [
    "### Parameter parsing: Abacus parameterization $\\omega_\\mathrm{b},\\omega_\\mathrm{cdm},\\sigma_8,n_\\mathrm{s}$"
   ]
  },
  {
   "cell_type": "code",
   "execution_count": 7,
   "id": "e7f9a159",
   "metadata": {},
   "outputs": [
    {
     "data": {
      "text/plain": [
       "5.709395057620228"
      ]
     },
     "execution_count": 7,
     "metadata": {},
     "output_type": "execute_result"
    }
   ],
   "source": [
    "# flat LCDM version *with theta_s constraint*\n",
    "\n",
    "#Abacus parameter vector p = [omega_b,omega_cdm,sigma8,n_s]\n",
    "def compute_norm_Abacus(p): \n",
    "    Abacus_LCDM ={\n",
    "        'omega_b': p[0],\n",
    "        'omega_cdm': p[1],\n",
    "        'sigma8': p[2], \n",
    "        'n_s': p[3], \n",
    "        'N_ur': 2.0328,\n",
    "        'N_ncdm' : 1.0,\n",
    "        'omega_ncdm' : 0.0006442,\n",
    "        '100*theta_s' : 1.041533, #from Summit paper\n",
    "        'recombination' : 'HyRec',\n",
    "        'tau_reio' : 0.0544\n",
    "    }\n",
    "    return compute_norm(Abacus_LCDM)\n",
    "\n",
    "#Abacus parameter vector p = [omega_b,omega_cdm,sigma8,n_s]\n",
    "p =[0.022370000000000004, 0.12000000000000001, 0.807952, 0.9649]\n",
    "compute_norm_Abacus(p)"
   ]
  },
  {
   "cell_type": "code",
   "execution_count": null,
   "id": "918b76cf",
   "metadata": {},
   "outputs": [],
   "source": []
  }
 ],
 "metadata": {
  "kernelspec": {
   "display_name": "Python 3 (ipykernel)",
   "language": "python",
   "name": "python3"
  },
  "language_info": {
   "codemirror_mode": {
    "name": "ipython",
    "version": 3
   },
   "file_extension": ".py",
   "mimetype": "text/x-python",
   "name": "python",
   "nbconvert_exporter": "python",
   "pygments_lexer": "ipython3",
   "version": "3.9.7"
  }
 },
 "nbformat": 4,
 "nbformat_minor": 5
}
