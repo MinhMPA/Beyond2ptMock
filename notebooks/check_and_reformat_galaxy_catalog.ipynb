{
 "cells": [
  {
   "cell_type": "code",
   "execution_count": 2,
   "id": "3d7a9184-2bc9-481d-8de3-ca880a29c461",
   "metadata": {},
   "outputs": [],
   "source": [
    "import numpy as np\n",
    "import h5py as hp"
   ]
  },
  {
   "cell_type": "markdown",
   "id": "cbebfa4a-301c-4a61-bc22-d845c74c488b",
   "metadata": {},
   "source": [
    "## Read in orignal catalogs"
   ]
  },
  {
   "cell_type": "code",
   "execution_count": 8,
   "id": "0f1a9b2a-da6a-4a7e-97f7-a2abfe9f4585",
   "metadata": {},
   "outputs": [],
   "source": [
    "cat_origin_prefix='/cobra/u/minh/Beyond2ptMock/mock_lcdm_real-space_'\n",
    "cat_origin_file_format='.h5'\n",
    "cat_labels = [str(i).zfill(2) for i in range(1, 11)]\n",
    "cat_origin_file_list=[cat_origin_prefix+label+cat_origin_file_format for label in cat_labels]\n",
    "cat_origin_file_list\n",
    "\n",
    "for cat in cat_origin_file_list:\n",
    "    with h5.File(cat,'r') as fhandle:\n",
    "        gals=fhandle['galaxies']\n",
    "        x=gals['x']\n",
    "        y=gals['y']\n",
    "        z=gals['z']\n",
    "        Mgal=np.zeros_like(x)\n",
    "    with h5.File(cat.split('.')[0]+'_real_reformatted_M0.h5','w') as fhandle:\n",
    "    #with h5.File(cat.split('.')[0]+'_real_reformatted.h5','w') as fhandle:\n",
    "        fhandle.create_dataset('x', data=x)\n",
    "        fhandle.create_dataset('y', data=y)\n",
    "        fhandle.create_dataset('z', data=z)\n",
    "        fhandle.create_dataset('Mgal', data=Mgal)\n",
    "    outcat_ASCII=cat.split('.')[0]+'_real_reformatted_M0.dat'\n",
    "    np.savetxt(outcat_ASCII,np.c_[x,y,z,Mgal])\n",
    "    #outcat_ASCII=cat.split('.')[0]+'_real_reformatted.dat'\n",
    "    #np.savetxt(outcat_ASCII,np.c_[x,y,z])"
   ]
  },
  {
   "cell_type": "markdown",
   "id": "e8311f4a-4ea3-4b88-b48a-8c9040865d67",
   "metadata": {},
   "source": [
    "## Check box size"
   ]
  },
  {
   "cell_type": "code",
   "execution_count": 5,
   "id": "9f3cbefc-9e61-4c3a-9030-2a0d1fd2a582",
   "metadata": {},
   "outputs": [
    {
     "name": "stdout",
     "output_type": "stream",
     "text": [
      "0.0006\n",
      "0.00117\n",
      "0.00167\n",
      "1999.998\n",
      "1999.9996\n",
      "1999.9988\n"
     ]
    }
   ],
   "source": [
    "print(x.min())\n",
    "print(y.min())\n",
    "print(z.min())\n",
    "print(x.max())\n",
    "print(y.max())\n",
    "print(z.max())"
   ]
  },
  {
   "cell_type": "markdown",
   "id": "a1f6bdba-6155-4717-8948-03e8c6367e8c",
   "metadata": {},
   "source": [
    "## Check number density"
   ]
  },
  {
   "cell_type": "code",
   "execution_count": 40,
   "id": "eec4457c-d547-4b64-bab1-3db1381bc59a",
   "metadata": {},
   "outputs": [
    {
     "name": "stdout",
     "output_type": "stream",
     "text": [
      "4.489824e-04\n"
     ]
    }
   ],
   "source": [
    "L=2000.\n",
    "print(\"{:e}\".format(x.shape[0]/L**3))"
   ]
  },
  {
   "cell_type": "code",
   "execution_count": 41,
   "id": "6e9a1faa-6ad6-4703-8fae-9a058b1e8693",
   "metadata": {},
   "outputs": [],
   "source": [
    "outcat_name='../LEFTFIELD_input/mock_lcdm_real-space_01_real_reformatted.dat'\n",
    "np.savetxt(outcat_name,np.c_[x,y,z,Mgal])"
   ]
  },
  {
   "cell_type": "code",
   "execution_count": 42,
   "id": "749ffff1-0b5e-4b62-b445-20faf9047d5e",
   "metadata": {},
   "outputs": [
    {
     "data": {
      "text/plain": [
       "True"
      ]
     },
     "execution_count": 42,
     "metadata": {},
     "output_type": "execute_result"
    }
   ],
   "source": [
    "x_check=np.loadtxt(outcat_name,usecols=0)\n",
    "np.array_equal(x,x_check)"
   ]
  },
  {
   "cell_type": "code",
   "execution_count": 43,
   "id": "66678642-1896-4cb9-b33e-f4a92220bf65",
   "metadata": {},
   "outputs": [],
   "source": [
    "outcat_name='../LEFTFIELD_input/mock_lcdm_real-space_01_real_reformatted0.h5'\n",
    "with h5.File(outcat_name,'w') as fhandle:\n",
    "    fhandle.create_dataset('x', data=x)\n",
    "    fhandle.create_dataset('y', data=y)\n",
    "    fhandle.create_dataset('z', data=z)"
   ]
  },
  {
   "cell_type": "code",
   "execution_count": 44,
   "id": "49f3da63-41dc-44bc-919a-ca9b332fdd8c",
   "metadata": {},
   "outputs": [
    {
     "name": "stdout",
     "output_type": "stream",
     "text": [
      "<KeysViewHDF5 ['x', 'y', 'z']>\n"
     ]
    }
   ],
   "source": [
    "with h5.File(outcat_name,'r') as fhandle:\n",
    "    print(fhandle.keys())"
   ]
  },
  {
   "cell_type": "code",
   "execution_count": 59,
   "id": "b23267c4-4853-4230-befc-e8d04f91c871",
   "metadata": {},
   "outputs": [],
   "source": [
    "file1='../LEFTFIELD_input/mock_lcdm_real-space_01_real_NGEul512.h5'\n",
    "file2='../LEFTFIELD_input/mock_lcdm_real-space_02_real_NGEul512.h5'\n",
    "with h5.File(file1,'r') as fhandle:\n",
    "    box1=fhandle['delta'][()]\n",
    "with h5.File(file2,'r') as fhandle:\n",
    "    box2=fhandle['delta'][()]"
   ]
  },
  {
   "cell_type": "code",
   "execution_count": 60,
   "id": "2ea1ab74-1b0d-460d-964d-40f82fd40058",
   "metadata": {},
   "outputs": [
    {
     "name": "stdout",
     "output_type": "stream",
     "text": [
      "1.000413623040538\n"
     ]
    }
   ],
   "source": [
    "print(box1.var()/box2.var())"
   ]
  },
  {
   "cell_type": "code",
   "execution_count": null,
   "id": "cace6f15-127e-4ae0-9fac-a0bee84adc32",
   "metadata": {},
   "outputs": [],
   "source": []
  }
 ],
 "metadata": {
  "kernelspec": {
   "display_name": "Python 3",
   "language": "python",
   "name": "python3"
  },
  "language_info": {
   "codemirror_mode": {
    "name": "ipython",
    "version": 3
   },
   "file_extension": ".py",
   "mimetype": "text/x-python",
   "name": "python",
   "nbconvert_exporter": "python",
   "pygments_lexer": "ipython3",
   "version": "3.6.13"
  }
 },
 "nbformat": 4,
 "nbformat_minor": 5
}
