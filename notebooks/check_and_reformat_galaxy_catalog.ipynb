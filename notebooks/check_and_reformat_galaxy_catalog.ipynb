{
 "cells": [
  {
   "cell_type": "code",
   "execution_count": 1,
   "id": "3d7a9184-2bc9-481d-8de3-ca880a29c461",
   "metadata": {},
   "outputs": [],
   "source": [
    "import numpy as np\n",
    "import h5py as hp"
   ]
  },
  {
   "cell_type": "markdown",
   "id": "cbebfa4a-301c-4a61-bc22-d845c74c488b",
   "metadata": {},
   "source": [
    "## Read in orignal catalog"
   ]
  },
  {
   "cell_type": "code",
   "execution_count": 9,
   "id": "ad59baf3-0166-48e6-81e7-3e12c127d39c",
   "metadata": {},
   "outputs": [],
   "source": [
    "incat_name='../Beyond2ptMock/A_mock_real-space.h5'\n",
    "with h5.File(incat_name,'r') as fhandle:\n",
    "   galaxies=fhandle['galaxies']\n",
    "   x=galaxies['x']\n",
    "   y=galaxies['y']\n",
    "   z=galaxies['z']\n",
    "Mgal=np.zeros_like(x)"
   ]
  },
  {
   "cell_type": "markdown",
   "id": "e8311f4a-4ea3-4b88-b48a-8c9040865d67",
   "metadata": {},
   "source": [
    "## Check box size"
   ]
  },
  {
   "cell_type": "code",
   "execution_count": 18,
   "id": "9f3cbefc-9e61-4c3a-9030-2a0d1fd2a582",
   "metadata": {},
   "outputs": [
    {
     "name": "stdout",
     "output_type": "stream",
     "text": [
      "0.0033063982\n",
      "0.00064294605\n",
      "0.0003368844\n",
      "1099.9983\n",
      "1099.9984\n",
      "1099.9952\n"
     ]
    }
   ],
   "source": [
    "print(x.min())\n",
    "print(y.min())\n",
    "print(z.min())\n",
    "print(x.max())\n",
    "print(y.max())\n",
    "print(z.max())"
   ]
  },
  {
   "cell_type": "markdown",
   "id": "a1f6bdba-6155-4717-8948-03e8c6367e8c",
   "metadata": {},
   "source": [
    "## Check number density"
   ]
  },
  {
   "cell_type": "code",
   "execution_count": 23,
   "id": "eec4457c-d547-4b64-bab1-3db1381bc59a",
   "metadata": {},
   "outputs": [
    {
     "name": "stdout",
     "output_type": "stream",
     "text": [
      "3.992494e-04\n"
     ]
    }
   ],
   "source": [
    "L=1100.\n",
    "print(\"{:e}\".format(x.shape[0]/L**3))"
   ]
  },
  {
   "cell_type": "code",
   "execution_count": 15,
   "id": "6e9a1faa-6ad6-4703-8fae-9a058b1e8693",
   "metadata": {},
   "outputs": [],
   "source": [
    "outcat_name='../Beyond2ptMock/A_mock_real-space_reformatted.dat'\n",
    "np.savetxt(outcat_name,np.c_[x,y,z,Mgal])"
   ]
  },
  {
   "cell_type": "code",
   "execution_count": 16,
   "id": "749ffff1-0b5e-4b62-b445-20faf9047d5e",
   "metadata": {},
   "outputs": [
    {
     "data": {
      "text/plain": [
       "True"
      ]
     },
     "execution_count": 16,
     "metadata": {},
     "output_type": "execute_result"
    }
   ],
   "source": [
    "x_check=np.loadtxt(outcat_name,usecols=0)\n",
    "np.array_equal(x,x_check)"
   ]
  }
 ],
 "metadata": {
  "kernelspec": {
   "display_name": "Python 3 (ipykernel)",
   "language": "python",
   "name": "python3"
  },
  "language_info": {
   "codemirror_mode": {
    "name": "ipython",
    "version": 3
   },
   "file_extension": ".py",
   "mimetype": "text/x-python",
   "name": "python",
   "nbconvert_exporter": "python",
   "pygments_lexer": "ipython3",
   "version": "3.9.13"
  }
 },
 "nbformat": 4,
 "nbformat_minor": 5
}
