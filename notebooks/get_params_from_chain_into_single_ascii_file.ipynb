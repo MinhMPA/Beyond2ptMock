{
 "cells": [
  {
   "cell_type": "markdown",
   "id": "848e4667-4d1b-43bb-8777-fc79a8edde04",
   "metadata": {
    "jp-MarkdownHeadingCollapsed": true,
    "tags": []
   },
   "source": [
    "# Using dask to export parameters from MCMC HDF5 batches and into ascii file"
   ]
  },
  {
   "cell_type": "markdown",
   "id": "e7531318-c8d3-4ade-a4b6-77e0e4924ddd",
   "metadata": {},
   "source": [
    "# Libraries"
   ]
  },
  {
   "cell_type": "code",
   "execution_count": 1,
   "id": "4726660e",
   "metadata": {},
   "outputs": [
    {
     "data": {
      "text/plain": [
       "<Figure size 432x288 with 0 Axes>"
      ]
     },
     "metadata": {},
     "output_type": "display_data"
    }
   ],
   "source": [
    "import sys, os, glob\n",
    "sys.path.insert(0, '/cobra/ptmp/minh/python_script')\n",
    "from pathlib import Path\n",
    "\n",
    "import h5py as h5\n",
    "import numpy as np\n",
    "import scipy\n",
    "import dask\n",
    "from dask.distributed import Client, LocalCluster\n",
    "import dask.array as da\n",
    "import dask.dataframe as dd\n",
    "\n",
    "import matplotlib\n",
    "matplotlib.style.use('Minh_paper_style')\n",
    "%matplotlib inline\n",
    "import matplotlib.pyplot as plt\n",
    "from matplotlib.ticker import (FixedLocator, MultipleLocator, ScalarFormatter, FixedFormatter, FormatStrFormatter,\n",
    "                               AutoMinorLocator)\n",
    "from matplotlib.colors import ListedColormap\n",
    "from matplotlib import animation\n",
    "#from colormap import RdBu_cmap, Planck_cmap\n",
    "plt.set_cmap('RdBu_r')\n",
    "plt.rcParams.update({\n",
    "    \"text.usetex\": False,\n",
    "    \"font.sans-serif\": \"Fira Sans\",\n",
    "})\n",
    "\n",
    "n_chains=2\n",
    "dir_prefix='/cobra/ptmp/minh/lefty_challenge/flatLCDM/box1/sampling_bO/Eulerian_NUFFT/twolptthird_nufft/kmax015/chain'\n",
    "chains=['1_fixed_highsigma','2_fixed_highsigma','3','4','5','6']\n",
    "dir_path=dir_prefix+chains[0]+'/'\n",
    "#dir_path=dir_prefix+chains[1]+'/'\n",
    "#dir_path=dir_prefix+chains[2]+'/'\n",
    "#dir_path=dir_prefix+chains[3]+'/'\n",
    "#dir_path=dir_prefix+chains[4]+'/'\n",
    "#dir_path=dir_prefix+chains[5]+'/'"
   ]
  },
  {
   "cell_type": "markdown",
   "id": "c25fa3a0-3cee-47b3-be1a-638b73b13ee7",
   "metadata": {},
   "source": [
    "# Get list of chain batches"
   ]
  },
  {
   "cell_type": "code",
   "execution_count": 2,
   "id": "1bbf4123-d3cc-46a8-a2b9-b2a85de162ec",
   "metadata": {},
   "outputs": [
    {
     "data": {
      "text/plain": [
       "[PosixPath('/cobra/ptmp/minh/lefty_challenge/flatLCDM/box1/sampling_bO/Eulerian_NUFFT/twolptthird_nufft/kmax015/chain1_fixed_highsigma/sampling_bO_2lptthird_nufft_FOURIER_NGEul1024_L0.21_cube.stage6_1.h5'),\n",
       " PosixPath('/cobra/ptmp/minh/lefty_challenge/flatLCDM/box1/sampling_bO/Eulerian_NUFFT/twolptthird_nufft/kmax015/chain1_fixed_highsigma/sampling_bO_2lptthird_nufft_FOURIER_NGEul1024_L0.21_cube.stage6_2.h5'),\n",
       " PosixPath('/cobra/ptmp/minh/lefty_challenge/flatLCDM/box1/sampling_bO/Eulerian_NUFFT/twolptthird_nufft/kmax015/chain1_fixed_highsigma/sampling_bO_2lptthird_nufft_FOURIER_NGEul1024_L0.21_cube.stage6_3.h5'),\n",
       " PosixPath('/cobra/ptmp/minh/lefty_challenge/flatLCDM/box1/sampling_bO/Eulerian_NUFFT/twolptthird_nufft/kmax015/chain1_fixed_highsigma/sampling_bO_2lptthird_nufft_FOURIER_NGEul1024_L0.21_cube.stage6_4.h5'),\n",
       " PosixPath('/cobra/ptmp/minh/lefty_challenge/flatLCDM/box1/sampling_bO/Eulerian_NUFFT/twolptthird_nufft/kmax015/chain1_fixed_highsigma/sampling_bO_2lptthird_nufft_FOURIER_NGEul1024_L0.21_cube.stage6_5.h5'),\n",
       " PosixPath('/cobra/ptmp/minh/lefty_challenge/flatLCDM/box1/sampling_bO/Eulerian_NUFFT/twolptthird_nufft/kmax015/chain1_fixed_highsigma/sampling_bO_2lptthird_nufft_FOURIER_NGEul1024_L0.21_cube.stage6_6.h5'),\n",
       " PosixPath('/cobra/ptmp/minh/lefty_challenge/flatLCDM/box1/sampling_bO/Eulerian_NUFFT/twolptthird_nufft/kmax015/chain1_fixed_highsigma/sampling_bO_2lptthird_nufft_FOURIER_NGEul1024_L0.21_cube.stage6_7.h5'),\n",
       " PosixPath('/cobra/ptmp/minh/lefty_challenge/flatLCDM/box1/sampling_bO/Eulerian_NUFFT/twolptthird_nufft/kmax015/chain1_fixed_highsigma/sampling_bO_2lptthird_nufft_FOURIER_NGEul1024_L0.21_cube.stage6_8.h5')]"
      ]
     },
     "execution_count": 2,
     "metadata": {},
     "output_type": "execute_result"
    }
   ],
   "source": [
    "#filename_prefix='sampling_bO_2lpt2d_FOURIER_NGEul192_L0.14_cube'\n",
    "#filename_prefix='sampling_bO_2lpt2d_FOURIER_NGEul256_L0.14_cube'\n",
    "#filename_prefix='sampling_bO_2lptsecond_nufft_FOURIER_NGEul1024_L0.14_cube'\n",
    "#filename_prefix='sampling_bO_2lptthird_nufft_FOURIER_NGEul1024_L0.10_cube'\n",
    "#filename_prefix='sampling_bO_2lptthird_nufft_FOURIER_NGEul1024_L0.14_cube'\n",
    "#filename_prefix='sampling_bO_2lptthird_nufft_FOURIER_NGEul1024_L0.15_cube'\n",
    "filename_prefix='sampling_bO_2lptthird_nufft_FOURIER_NGEul1024_L0.21_cube'\n",
    "p=Path(dir_path)\n",
    "sorted_filenames=sorted(p.glob(filename_prefix+'.stage6_[1-8].h5'), \n",
    "                       key=lambda path: int(path.stem.rsplit(\"cube.stage\", 1)[1]))\n",
    "sorted_filenames"
   ]
  },
  {
   "cell_type": "markdown",
   "id": "a0dcc314-25f4-4860-8037-1c40678ee094",
   "metadata": {},
   "source": [
    "# Define parameter and log-prob lists"
   ]
  },
  {
   "cell_type": "markdown",
   "id": "b88f6182-5f47-4656-8e69-0f55a6d18b9e",
   "metadata": {},
   "source": [
    "## Parameters"
   ]
  },
  {
   "cell_type": "code",
   "execution_count": 3,
   "id": "36784e08-2390-422f-ba65-c126b73b7cb2",
   "metadata": {},
   "outputs": [
    {
     "name": "stdout",
     "output_type": "stream",
     "text": [
      "(134, 134, 134)\n",
      "(134, 134, 134)\n"
     ]
    }
   ],
   "source": [
    "with h5.File(sorted_filenames[0],'r') as fhandle:\n",
    "    param_list=[key for key in fhandle['pars_1400'].keys()]\n",
    "    shat=fhandle['shat_1400'][()]\n",
    "    #param_list=[key for key in fhandle['pars_50400'].keys()]\n",
    "    #shat=fhandle['shat_50400'][()]\n",
    "    shat_true=fhandle['shat_true'][()]\n",
    "param_list\n",
    "print(shat.shape)\n",
    "print(shat_true.shape)"
   ]
  },
  {
   "cell_type": "code",
   "execution_count": 4,
   "id": "01356405-460c-43c4-a832-a16a5501c486",
   "metadata": {},
   "outputs": [],
   "source": [
    "#renamed_param_list=['alpha','b_delta','b_lapl_delta','b_sigmasigma','b_trM1M1','sigma','sigmaEpsk2','sigmaEpsk4']\n",
    "#latex_param_list=[r'\\alpha',r'b_\\delta',r'b_{\\nabla^2 \\delta}',r'b_{\\sigma^2}',r'b_{\\mathrm{tr}[M^{(1)} M^{(1)}]}',r'\\sigma_\\epsilon',r'\\sigma_{\\epsilon_{k^2}}',r'\\sigma_{\\epsilon_{k^4}}']\n",
    "#renamed_param_list=['alpha','b_K2','b_delta','b_delta2','b_lapl_delta','sigma','sigmaEpsk2','sigmaEpsk4']\n",
    "#latex_param_list=[r'\\alpha',r'b_{K^2}',r'b_\\delta',r'b_{\\delta^2}',r'b_{\\nabla^2 \\delta}',r'\\sigma_\\epsilon',r'\\sigma_{\\epsilon_{k^2}}',r'\\sigma_{\\epsilon_{k^4}}']\n",
    "renamed_param_list=['alpha','b_K2','b_K3','b_Otd', 'b_delta', 'b_deltaK^2', 'b_delta^2', 'b_delta^3', 'b_lapl(delta)','sigma','sigmaEpsk2','sigmaEpsk4']\n",
    "latex_param_list=[r'\\alpha',r'b_{K^2}', r'b_{K^3}', r'b_{\\mathrm{Otd}}', r'b_\\delta', r'b_{\\delta K^2}', r'b_{\\delta^2}', r'b_{\\delta^3}', r'b_{\\nabla^2 \\delta}',r'\\sigma_\\epsilon',r'\\sigma_{\\epsilon_{k^2}}',r'\\sigma_{\\epsilon_{k^4}}']"
   ]
  },
  {
   "cell_type": "markdown",
   "id": "cea024e0-cb6c-40eb-8afa-a3c6cd230a43",
   "metadata": {},
   "source": [
    "## Log probabilities"
   ]
  },
  {
   "cell_type": "code",
   "execution_count": 5,
   "id": "a5abe3bd-b435-487c-85cd-4bb2b79de572",
   "metadata": {},
   "outputs": [],
   "source": [
    "logprob_list=['log_like','log_param_prior','log_shat_prior']"
   ]
  },
  {
   "cell_type": "markdown",
   "id": "4f21960e-9c4a-4c66-8afd-bb65c0df6164",
   "metadata": {},
   "source": [
    "# Get parameter and log-prob chains"
   ]
  },
  {
   "cell_type": "markdown",
   "id": "40e4ee83-f2e3-4970-b72f-b9bfbf9d6e3f",
   "metadata": {},
   "source": [
    "## Utility functions"
   ]
  },
  {
   "cell_type": "code",
   "execution_count": 6,
   "id": "3ccdd573-801e-470d-b131-714dc0f30db3",
   "metadata": {},
   "outputs": [],
   "source": [
    "def get_param_value_chain(chain,sample_range,param_list=param_list):\n",
    "    params=np.empty(((sample_range[1]-sample_range[0]+1),len(param_list),))\n",
    "    params[:]=np.nan\n",
    "    with h5.File(chain,'r') as fhandle:\n",
    "        for s,sample in enumerate(np.arange(sample_range[0],sample_range[1]+1,dtype=int)):\n",
    "            for p, param in enumerate(param_list):\n",
    "                params[s,p]=fhandle['pars_'+str(sample)][param][0]\n",
    "    return params\n",
    "\n",
    "def get_logprob_value_chain(chain,sample_range,logprob_len=3):\n",
    "    logprob=np.empty(((sample_range[1]-sample_range[0]+1),logprob_len))\n",
    "    logprob[:]=np.nan\n",
    "    with h5.File(chain,'r') as fhandle:\n",
    "        for s,sample in enumerate(np.arange(sample_range[0],sample_range[1]+1,dtype=int)):\n",
    "            for l in range(logprob_len):\n",
    "                logprob[s,l]=fhandle['logprobs_'+str(sample)][l]\n",
    "    return logprob\n",
    "\n",
    "def get_min_sample_in_batch(batch_path,keyword='sample_range'):\n",
    "    with h5.File(batch_path) as fhandle:\n",
    "        min_sample=fhandle['sample_range'][()]\n",
    "    return min_sample\n",
    "\n",
    "def get_sample_range_in_batch(batch_path,keyword='pars_'):\n",
    "    with h5.File(batch_path) as fhandle:\n",
    "        batch_keys=list(fhandle.keys())\n",
    "    sample_id = []\n",
    "    for key in batch_keys:\n",
    "        if keyword in key:\n",
    "            sample_id.append(key.replace(keyword,''))\n",
    "    sample_id = np.asarray(sample_id,dtype=int)\n",
    "    return np.array([sample_id.min(), sample_id.max()])\n",
    "\n",
    "def unnest_tuple_of_tuples(nested_tuple):\n",
    "    return [param for tup in nested_tuple for param in tup]"
   ]
  },
  {
   "cell_type": "markdown",
   "id": "bac78627-ee27-4124-9ccf-f5530c6de69c",
   "metadata": {},
   "source": [
    "## Setup dask client"
   ]
  },
  {
   "cell_type": "code",
   "execution_count": 7,
   "id": "066b054d-5f16-4339-8021-ddcd5f071466",
   "metadata": {},
   "outputs": [
    {
     "data": {
      "text/html": [
       "<table style=\"border: 2px solid white;\">\n",
       "<tr>\n",
       "<td style=\"vertical-align: top; border: 0px solid white\">\n",
       "<h3 style=\"text-align: left;\">Client</h3>\n",
       "<ul style=\"text-align: left; list-style: none; margin: 0; padding: 0;\">\n",
       "  <li><b>Scheduler: </b>tcp://127.0.0.1:42035</li>\n",
       "  <li><b>Dashboard: </b><a href='http://127.0.0.1:8787/status' target='_blank'>http://127.0.0.1:8787/status</a></li>\n",
       "</ul>\n",
       "</td>\n",
       "<td style=\"vertical-align: top; border: 0px solid white\">\n",
       "<h3 style=\"text-align: left;\">Cluster</h3>\n",
       "<ul style=\"text-align: left; list-style:none; margin: 0; padding: 0;\">\n",
       "  <li><b>Workers: </b>6</li>\n",
       "  <li><b>Cores: </b>24</li>\n",
       "  <li><b>Memory: </b>180.00 GB</li>\n",
       "</ul>\n",
       "</td>\n",
       "</tr>\n",
       "</table>"
      ],
      "text/plain": [
       "<Client: 'tcp://127.0.0.1:42035' processes=6 threads=24, memory=180.00 GB>"
      ]
     },
     "execution_count": 7,
     "metadata": {},
     "output_type": "execute_result"
    }
   ],
   "source": [
    "from dask.distributed import Client, LocalCluster\n",
    "cluster = LocalCluster(threads_per_worker=4,n_workers=6,memory_limit='30GB')\n",
    "client = Client(cluster)\n",
    "client"
   ]
  },
  {
   "cell_type": "markdown",
   "id": "a8448655-9ce5-4421-8dfe-e74c4bd54060",
   "metadata": {},
   "source": [
    "## Get sample ranges for all MCMC batches"
   ]
  },
  {
   "cell_type": "code",
   "execution_count": 17,
   "id": "f3dfaec9-14df-4827-9468-0acd651f14af",
   "metadata": {},
   "outputs": [],
   "source": [
    "min_sample_futures=client.map(get_min_sample_in_batch,sorted_filenames)\n",
    "sample_range_futures=client.map(get_sample_range_in_batch,sorted_filenames)"
   ]
  },
  {
   "cell_type": "code",
   "execution_count": 18,
   "id": "5817b8cd-b33e-4d04-85c7-c8b5f071eadf",
   "metadata": {},
   "outputs": [],
   "source": [
    "min_sample=np.asarray(client.gather(min_sample_futures));\n",
    "sample_range=np.asarray(client.gather(sample_range_futures));"
   ]
  },
  {
   "cell_type": "markdown",
   "id": "d81b22ac-cedc-436d-bd73-0611a60319bb",
   "metadata": {},
   "source": [
    "## Get parameters and log-probs from all MCMC batches"
   ]
  },
  {
   "cell_type": "code",
   "execution_count": 19,
   "id": "7a611829-0621-4f89-8db1-a55f6a48be6f",
   "metadata": {},
   "outputs": [],
   "source": [
    "param_futures=client.map(get_param_value_chain,sorted_filenames,sample_range);\n",
    "logprob_futures=client.map(get_logprob_value_chain,sorted_filenames,sample_range);"
   ]
  },
  {
   "cell_type": "code",
   "execution_count": 20,
   "id": "777c1b53-3090-49e3-a8d1-17803e3bdf5c",
   "metadata": {},
   "outputs": [],
   "source": [
    "params=client.gather(param_futures)\n",
    "logprobs=client.gather(logprob_futures)"
   ]
  },
  {
   "cell_type": "markdown",
   "id": "3131be05-8595-4f0e-9a1b-a8eb53b8d8aa",
   "metadata": {},
   "source": [
    "## Reshape the chains of parameters and log probabilities before output"
   ]
  },
  {
   "cell_type": "code",
   "execution_count": 21,
   "id": "06190471-ba66-4fc4-acf4-68e3e1b73f13",
   "metadata": {},
   "outputs": [],
   "source": [
    "param_chain=unnest_tuple_of_tuples(params)\n",
    "param_chain_block=np.block(param_chain)\n",
    "param_chain_reshaped=param_chain_block.reshape(int(param_chain_block.shape[0]/len(param_list)),len(param_list))"
   ]
  },
  {
   "cell_type": "code",
   "execution_count": 22,
   "id": "c7348d4e-6e72-467a-a47f-5ff0f3195a23",
   "metadata": {},
   "outputs": [],
   "source": [
    "logprob_chain=unnest_tuple_of_tuples(logprobs)\n",
    "logprob_chain_block=np.block(logprob_chain)\n",
    "logprob_chain_reshaped=logprob_chain_block.reshape(int(logprob_chain_block.shape[0]/3),3)"
   ]
  },
  {
   "cell_type": "markdown",
   "id": "2abb2b54-44ea-4c22-9bf5-ae438f77fd07",
   "metadata": {},
   "source": [
    "## Output param and log-prob chains"
   ]
  },
  {
   "cell_type": "code",
   "execution_count": 23,
   "id": "287882e2-f902-4d32-9b5e-6d5fae6d9f16",
   "metadata": {},
   "outputs": [],
   "source": [
    "param_outfile_path=dir_path+filename_prefix+'_params.'+str(chains[0])+'.txt'\n",
    "np.savetxt(param_outfile_path,param_chain_reshaped,header='\\t'.join(renamed_param_list))"
   ]
  },
  {
   "cell_type": "code",
   "execution_count": 24,
   "id": "ccf1d994-7d52-45be-9e34-7b9e787c2151",
   "metadata": {},
   "outputs": [],
   "source": [
    "logprob_outfile_path=dir_path+filename_prefix+'_logprobs.'+str(chains[0])+'.txt'\n",
    "np.savetxt(logprob_outfile_path,logprob_chain_reshaped,header='\\t'.join(logprob_list))"
   ]
  },
  {
   "cell_type": "code",
   "execution_count": 25,
   "id": "6252d144-9d34-4b8d-8fe4-a0a2d7c95acd",
   "metadata": {},
   "outputs": [
    {
     "name": "stdout",
     "output_type": "stream",
     "text": [
      "\\alpha\n",
      "b_{K^2}\n",
      "b_{K^3}\n",
      "b_{\\mathrm{Otd}}\n",
      "b_\\delta\n",
      "b_{\\delta K^2}\n",
      "b_{\\delta^2}\n",
      "b_{\\delta^3}\n",
      "b_{\\nabla^2 \\delta}\n",
      "\\sigma_\\epsilon\n",
      "\\sigma_{\\epsilon_{k^2}}\n",
      "\\sigma_{\\epsilon_{k^4}}\n"
     ]
    }
   ],
   "source": [
    "paramnames_outfile_path=dir_path+filename_prefix+'_logP_params.paramnames'\n",
    "f = open(paramnames_outfile_path,'w+')\n",
    "for par_name,par_latex in zip(renamed_param_list,latex_param_list):\n",
    "    f.write(par_name+'\\t'+par_latex+'\\n')\n",
    "    print(par_latex)\n",
    "f.close()"
   ]
  },
  {
   "cell_type": "markdown",
   "id": "2cb0ba5f-8cf5-492c-8722-5f5d5315bb65",
   "metadata": {},
   "source": [
    "## Visual inspections"
   ]
  },
  {
   "cell_type": "code",
   "execution_count": null,
   "id": "f796b0c3-43b6-422e-9987-97c02196bcbf",
   "metadata": {},
   "outputs": [],
   "source": [
    "cutoff=400\n",
    "fig,ax=plt.subplots(facecolor='w')\n",
    "samples=np.arange(0,param_chain_reshaped.shape[0],1)\n",
    "ax.plot(samples[cutoff:],param_chain_reshaped[cutoff:,9])\n",
    "ax.set_xlabel(r'samples')\n",
    "ax.set_ylabel(r'$\\sigma$')\n",
    "#fig_path=r'/cobra/u/minh/Beyond2ptMock/results/figs/'\n",
    "#fig_name='sigma_trace_stepsize5e-2_twolptthirdNUFFT_Lambda021_kmax015_chain1.pdf'\n",
    "#plt.savefig(fig_path+fig_name)\n",
    "print(np.mean(param_chain_reshaped[cutoff:,9]))\n",
    "print(np.std(param_chain_reshaped[cutoff:,9]))"
   ]
  },
  {
   "cell_type": "code",
   "execution_count": null,
   "id": "a8a85cac-3e06-4a5f-b7cb-52f942a3c708",
   "metadata": {},
   "outputs": [],
   "source": [
    "fig,ax=plt.subplots(facecolor='w')\n",
    "samples=np.arange(0,param_chain_reshaped.shape[0],1)\n",
    "ax.plot(samples[cutoff:],param_chain_reshaped[cutoff:,0],label=r'$k_{\\mathrm{max}}=0.15,\\Lambda=0.21$')\n",
    "#ax.set_ylim(0.8970,0.9000)\n",
    "ax.set_xlabel(r'samples')\n",
    "ax.set_ylabel(r'$\\alpha$')\n",
    "ax.legend(frameon=False,fontsize=14,loc='lower left')\n",
    "#fig_path=r'/cobra/u/minh/Beyond2ptMock/results/figs/'\n",
    "#fig_name='alpha_trace_alphastepsize1e-3_twolptthirdNUFFT_Lambda021_kmax015_chain2.pdf'\n",
    "#plt.savefig(fig_path+fig_name)\n",
    "print(np.mean(param_chain_reshaped[cutoff:,0]))\n",
    "print(np.std(param_chain_reshaped[cutoff:,0]))"
   ]
  },
  {
   "cell_type": "code",
   "execution_count": null,
   "id": "ff15062b-4a66-40f0-bdc1-786c8d81f3a4",
   "metadata": {},
   "outputs": [],
   "source": [
    "fig,ax=plt.subplots(facecolor='w')\n",
    "samples=np.arange(0,logprob_chain_reshaped.shape[0],1)\n",
    "ax.plot(samples[cutoff:],logprob_chain_reshaped[cutoff:,:].sum(axis=1),label=r'$k_{\\mathrm{max}}=0.15,\\Lambda=0.21$')\n",
    "ax.set_xlabel(r'samples')\n",
    "#fig_name='logP_trace_alphastepsize1e-3_twolp'samples')\n",
    "ax.set_ylabel(r'$\\ln\\mathcal{P}$')\n",
    "ax.legend(frameon=False,fontsize=14,loc='lower left')\n",
    "#fig_path=r'/cobra/u/minh/BeyondtthirdNUFFT_Lambda021_kmax015_chain2.pdf'\n",
    "#plt.savefig(fig_path+fig_name)\n",
    "print(np.std(logprob_chain_reshaped[cutoff:,:].sum(axis=1)))"
   ]
  },
  {
   "cell_type": "code",
   "execution_count": null,
   "id": "7fe67920-c97e-4835-9ea9-25922bd2398b",
   "metadata": {},
   "outputs": [],
   "source": [
    "fig,ax=plt.subplots(facecolor='w')\n",
    "samples=np.arange(0,param_chain_reshaped.shape[0],1)\n",
    "ax.plot(samples[cutoff:],param_chain_reshaped[cutoff:,4]*param_chain_reshaped[cutoff:,0],label=r'$\\alpha$ step-size = 0.001')\n",
    "ax.set_xlabel(r'samples')\n",
    "ax.set_ylabel(r'$b_{\\delta}\\alpha$')\n",
    "ax.legend(frameon=False,fontsize=14)\n",
    "fig_path=r'/cobra/u/minh/Beyond2ptMock/results/figs/'\n",
    "fig_name='bdelta_alpha_trace_alphastepsize1e-3_chain1.pdf'\n",
    "plt.savefig(fig_path+fig_name)"
   ]
  },
  {
   "cell_type": "code",
   "execution_count": null,
   "id": "0f665cd9-c3f3-4db1-8dab-3fdadc87c9ce",
   "metadata": {},
   "outputs": [],
   "source": [
    "print(param_chain_reshaped[cutoff:,0].mean())\n",
    "print(param_chain_reshaped[cutoff:,0].std())"
   ]
  },
  {
   "cell_type": "code",
   "execution_count": null,
   "id": "8011adf6-2eeb-4d96-a1d5-3bba3ec3cc3d",
   "metadata": {
    "tags": []
   },
   "outputs": [],
   "source": [
    "fig,ax=plt.subplots(facecolor='w')\n",
    "samples=np.arange(0,param_chain_reshaped.shape[0],1)\n",
    "ax.plot(samples[cutoff:],param_chain_reshaped[cutoff:,2])\n",
    "ax.set_xlabel(r'samples')\n",
    "ax.set_ylabel(r'$b_\\delta$')"
   ]
  },
  {
   "cell_type": "code",
   "execution_count": null,
   "id": "39b5790e-6d62-4209-ab61-719f04dd0213",
   "metadata": {},
   "outputs": [],
   "source": [
    "fig,ax=plt.subplots(facecolor='w')\n",
    "samples=np.arange(0,param_chain_reshaped.shape[0],1)\n",
    "ax.plot(samples[cutoff:],param_chain_reshaped[cutoff:,3])\n",
    "ax.set_xlabel(r'samples')\n",
    "ax.set_ylabel(r'$b_{\\delta^2}$')"
   ]
  },
  {
   "cell_type": "code",
   "execution_count": null,
   "id": "6797ea51-3ccd-4652-af48-bba05ffb67ae",
   "metadata": {},
   "outputs": [],
   "source": [
    "fig,ax=plt.subplots(facecolor='w')\n",
    "samples=np.arange(0,param_chain_reshaped.shape[0],1)\n",
    "ax.plot(samples[cutoff:],param_chain_reshaped[cutoff:,1])\n",
    "ax.set_xlabel(r'samples')\n",
    "ax.set_ylabel(r'$b_{K^2}$')"
   ]
  },
  {
   "cell_type": "code",
   "execution_count": null,
   "id": "25a24491-8aac-4dc8-b8f4-c74964cef09d",
   "metadata": {},
   "outputs": [],
   "source": []
  }
 ],
 "metadata": {
  "kernelspec": {
   "display_name": "Python 3",
   "language": "python",
   "name": "python3"
  },
  "language_info": {
   "codemirror_mode": {
    "name": "ipython",
    "version": 3
   },
   "file_extension": ".py",
   "mimetype": "text/x-python",
   "name": "python",
   "nbconvert_exporter": "python",
   "pygments_lexer": "ipython3",
   "version": "3.6.13"
  }
 },
 "nbformat": 4,
 "nbformat_minor": 5
}
