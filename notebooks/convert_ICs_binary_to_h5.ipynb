{
 "cells": [
  {
   "cell_type": "code",
   "execution_count": 1,
   "id": "2ad466ad-69fe-4d4c-a3bb-e891e67515ad",
   "metadata": {},
   "outputs": [],
   "source": [
    "import numpy as np\n",
    "import h5py as h5"
   ]
  },
  {
   "cell_type": "code",
   "execution_count": 3,
   "id": "c007e3e1-8da5-44af-ac16-4f31b9891e2a",
   "metadata": {},
   "outputs": [
    {
     "ename": "ValueError",
     "evalue": "cannot reshape array of size 8454144 into shape (256,256,256)",
     "output_type": "error",
     "traceback": [
      "\u001b[0;31m---------------------------------------------------------------------------\u001b[0m",
      "\u001b[0;31mValueError\u001b[0m                                Traceback (most recent call last)",
      "\u001b[0;32m<ipython-input-3-08b90586f2f1>\u001b[0m in \u001b[0;36m<module>\u001b[0;34m\u001b[0m\n\u001b[1;32m      1\u001b[0m \u001b[0mpath\u001b[0m\u001b[0;34m=\u001b[0m\u001b[0;34m'/cobra/u/minh/Beyond2ptMock/LEFTFIELD_input/beyond2pt_data_challenge/white_real-space_01_ng256.bin'\u001b[0m\u001b[0;34m\u001b[0m\u001b[0;34m\u001b[0m\u001b[0m\n\u001b[1;32m      2\u001b[0m \u001b[0mng\u001b[0m \u001b[0;34m=\u001b[0m \u001b[0;36m256\u001b[0m\u001b[0;34m\u001b[0m\u001b[0;34m\u001b[0m\u001b[0m\n\u001b[0;32m----> 3\u001b[0;31m \u001b[0mfield\u001b[0m \u001b[0;34m=\u001b[0m \u001b[0mnp\u001b[0m\u001b[0;34m.\u001b[0m\u001b[0mfromfile\u001b[0m\u001b[0;34m(\u001b[0m\u001b[0mpath\u001b[0m\u001b[0;34m,\u001b[0m \u001b[0mdtype\u001b[0m\u001b[0;34m=\u001b[0m\u001b[0;34m'float'\u001b[0m\u001b[0;34m)\u001b[0m\u001b[0;34m.\u001b[0m\u001b[0mreshape\u001b[0m\u001b[0;34m(\u001b[0m\u001b[0;34m(\u001b[0m\u001b[0mng\u001b[0m\u001b[0;34m,\u001b[0m\u001b[0mng\u001b[0m\u001b[0;34m,\u001b[0m\u001b[0mng\u001b[0m\u001b[0;34m)\u001b[0m\u001b[0;34m)\u001b[0m\u001b[0;34m\u001b[0m\u001b[0;34m\u001b[0m\u001b[0m\n\u001b[0m\u001b[1;32m      4\u001b[0m \u001b[0mfield\u001b[0m\u001b[0;34m.\u001b[0m\u001b[0mshape\u001b[0m\u001b[0;34m\u001b[0m\u001b[0;34m\u001b[0m\u001b[0m\n",
      "\u001b[0;31mValueError\u001b[0m: cannot reshape array of size 8454144 into shape (256,256,256)"
     ]
    }
   ],
   "source": [
    "path='/cobra/u/minh/Beyond2ptMock/LEFTFIELD_input/beyond2pt_data_challenge/white_real-space_01_ng256.bin'\n",
    "ng = 256\n",
    "field = np.fromfile(path, dtype='float').reshape((ng,ng,ng))\n",
    "field.shape"
   ]
  },
  {
   "cell_type": "code",
   "execution_count": 6,
   "id": "e7a73aee-064c-4e67-a650-595f37489e4c",
   "metadata": {},
   "outputs": [],
   "source": [
    "out_path='/cobra/u/minh/Beyond2ptMock/LEFTFIELD_input/beyond2pt_data_challenge/white_real-space_01_ng256.h5'\n",
    "f = h5.File(out_path, \"w\")"
   ]
  },
  {
   "cell_type": "code",
   "execution_count": 7,
   "id": "2a5114c7-b6da-4325-9f4c-feff65625695",
   "metadata": {},
   "outputs": [],
   "source": [
    "dset = f.create_dataset(\"delta\", data=field)\n",
    "f.close()"
   ]
  },
  {
   "cell_type": "code",
   "execution_count": 1,
   "id": "b7b6a503-e355-42bc-9843-3542595a9812",
   "metadata": {},
   "outputs": [
    {
     "data": {
      "text/plain": [
       "0.0069270000000000165"
      ]
     },
     "execution_count": 1,
     "metadata": {},
     "output_type": "execute_result"
    }
   ],
   "source": [
    "8.98899e-01-8.91972e-01"
   ]
  },
  {
   "cell_type": "code",
   "execution_count": 2,
   "id": "54a51a78-0cb5-4389-b547-498659460866",
   "metadata": {},
   "outputs": [
    {
     "data": {
      "text/plain": [
       "0.005417000000000005"
      ]
     },
     "execution_count": 2,
     "metadata": {},
     "output_type": "execute_result"
    }
   ],
   "source": [
    "8.98295e-01-8.92878e-01"
   ]
  },
  {
   "cell_type": "code",
   "execution_count": 3,
   "id": "af743092-4a69-4b65-9e76-483728b18c2c",
   "metadata": {},
   "outputs": [
    {
     "data": {
      "text/plain": [
       "0.01066900000000004"
      ]
     },
     "execution_count": 3,
     "metadata": {},
     "output_type": "execute_result"
    }
   ],
   "source": [
    "9.11416e-01-9.00747e-01"
   ]
  },
  {
   "cell_type": "code",
   "execution_count": null,
   "id": "0b45aa81-f6cb-4e39-a82b-47ea18afc56c",
   "metadata": {},
   "outputs": [],
   "source": []
  }
 ],
 "metadata": {
  "kernelspec": {
   "display_name": "Python 3",
   "language": "python",
   "name": "python3"
  },
  "language_info": {
   "codemirror_mode": {
    "name": "ipython",
    "version": 3
   },
   "file_extension": ".py",
   "mimetype": "text/x-python",
   "name": "python",
   "nbconvert_exporter": "python",
   "pygments_lexer": "ipython3",
   "version": "3.6.13"
  }
 },
 "nbformat": 4,
 "nbformat_minor": 5
}
