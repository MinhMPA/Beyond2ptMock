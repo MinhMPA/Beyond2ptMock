{
 "cells": [
  {
   "cell_type": "code",
   "execution_count": 19,
   "id": "f041da31-e89c-4199-b5e5-5eb1dee43e1c",
   "metadata": {},
   "outputs": [],
   "source": [
    "from classy import Class\n",
    "import os, sys, time\n",
    "import json\n",
    "import numpy as np\n",
    "import scipy as sp\n",
    "import matplotlib\n",
    "import matplotlib.pyplot as plt\n",
    "plt.style.use('Minh_paper_style')\n",
    "plt.rcParams.update({\n",
    "    \"text.usetex\": False,\n",
    "    \"font.family\": \"sans-serif\"\n",
    "})\n",
    "from matplotlib.gridspec import GridSpec, GridSpecFromSubplotSpec\n",
    "from aemulus_heft.heft_emu import HEFTEmulator\n",
    "from aemulus_heft.utils import lpt_spectra\n",
    "from scipy.interpolate import interp1d\n",
    "from glob import glob"
   ]
  },
  {
   "cell_type": "code",
   "execution_count": 2,
   "id": "5b762bfe-f04d-4040-91d4-be50703b5ed2",
   "metadata": {},
   "outputs": [],
   "source": [
    "from scipy.interpolate import InterpolatedUnivariateSpline as ius"
   ]
  },
  {
   "cell_type": "code",
   "execution_count": 3,
   "id": "c85ea230-b3c9-478c-b093-95917dd94b21",
   "metadata": {},
   "outputs": [],
   "source": [
    "def convert_for_sim(cparam, omega_nu=0.0006442):\n",
    "    omega_b = cparam[0]\n",
    "    omega_c = cparam[1]\n",
    "    h = cparam[4]\n",
    "    Omega_b = omega_b/h**2\n",
    "    Omega_m = (omega_b+omega_c+omega_nu)/h**2\n",
    "    Omega_de = 1-Omega_m\n",
    "    A_s = cparam[2] * 1e9\n",
    "    ln10p10A_s = np.log(1e1*A_s)\n",
    "    n_s = cparam[3]\n",
    "    cparam_dict = {'omega_b':omega_b, 'omega_c':omega_c, 'Omega_m':Omega_m,\n",
    "                   'Omega_b':Omega_b, 'Omega_de':Omega_de, 'h':h,\n",
    "                   '10^9 A_s':A_s, 'ln(10^10 A_s)':ln10p10A_s, 'n_s':n_s}\n",
    "    return cparam_dict\n",
    "\n",
    "def convert_to_zeromnu(cparam):\n",
    "    cparam_dict = convert_for_sim(cparam)\n",
    "    omega_b = cparam_dict['Omega_b'] * cparam_dict['h']**2\n",
    "    omega_c = (cparam_dict['Omega_m']-cparam_dict['Omega_b']) * cparam_dict['h']**2\n",
    "    As = cparam_dict['10^9 A_s'] * 1e-9\n",
    "    ns = cparam_dict['n_s']\n",
    "    h = cparam_dict['h']\n",
    "    return np.array([omega_b, omega_c, As, ns, h])"
   ]
  },
  {
   "cell_type": "code",
   "execution_count": 4,
   "id": "40f0ee1b-7ee8-4518-aafa-e3aee7c57668",
   "metadata": {},
   "outputs": [],
   "source": [
    "def derived_parameters(p, omega_nu):\n",
    "    #set parameters to configure CLASS computations\n",
    "    params = {\n",
    "        'omega_b': p[0],\n",
    "        'omega_cdm': p[1],\n",
    "        'A_s': p[2],\n",
    "        'n_s': p[3], \n",
    "        'N_ur': 2.0328,\n",
    "        'N_ncdm' : 1.0,\n",
    "        'omega_ncdm' : omega_nu,\n",
    "#         '100*theta_s' : 1.041533, #from Summit paper\n",
    "        'h': p[4],\n",
    "        'recombination' : 'HyRec',\n",
    "        'tau_reio' : 0.0544,\n",
    "        'non linear' : 'none',#option for computing non-linear power spectum\n",
    "        'P_k_max_1/Mpc': 10.0,\n",
    "        'output': 'mPk' #which quantities we want CLASS to compute\n",
    "    }\n",
    "    #initialize Class instance and set parameters\n",
    "    cosmo = Class()\n",
    "    cosmo.set(params)\n",
    "    cosmo.compute()\n",
    "    h = cosmo.h()\n",
    "    sigma_8 = cosmo.sigma(8/cosmo.h(),0)\n",
    "    return h, sigma_8"
   ]
  },
  {
   "cell_type": "code",
   "execution_count": 5,
   "id": "b8d0848e-9446-4c8d-804d-3fc774bd8d5b",
   "metadata": {},
   "outputs": [
    {
     "name": "stdout",
     "output_type": "stream",
     "text": [
      "[2.22553729e-02 1.18967357e-01 2.00000000e-09 9.91532720e-01\n",
      " 6.76225400e-01 7.27353188e-01]\n"
     ]
    }
   ],
   "source": [
    "cparams = np.array([2.22553729e-02, 1.18967357e-01, 2.e-09, 9.91532720e-01,\n",
    "       6.76225400e-01, 7.27353188e-01])\n",
    "print(cparams)"
   ]
  },
  {
   "cell_type": "code",
   "execution_count": 6,
   "id": "13e50382-971f-4850-a020-291df340cf0c",
   "metadata": {},
   "outputs": [
    {
     "name": "stdout",
     "output_type": "stream",
     "text": [
      "[2.22553729e-02 1.19611557e-01 2.00000000e-09 9.91532720e-01\n",
      " 6.76225400e-01]\n"
     ]
    }
   ],
   "source": [
    "cparams_nu0 = convert_to_zeromnu(cparams)\n",
    "print(cparams_nu0)"
   ]
  },
  {
   "cell_type": "code",
   "execution_count": 7,
   "id": "988a19ee",
   "metadata": {},
   "outputs": [
    {
     "data": {
      "text/plain": [
       "0.11961168689690721"
      ]
     },
     "execution_count": 7,
     "metadata": {},
     "output_type": "execute_result"
    }
   ],
   "source": [
    "1.18967357e-01+0.06/93.12"
   ]
  },
  {
   "cell_type": "code",
   "execution_count": 8,
   "id": "e2ca6033-b52f-435f-b1ca-2b4cdb4ce9d9",
   "metadata": {},
   "outputs": [
    {
     "data": {
      "text/plain": [
       "{'omega_b': 0.0222553729,\n",
       " 'omega_c': 0.118967357,\n",
       " 'Omega_m': 0.31024029984293616,\n",
       " 'Omega_b': 0.048668943258864124,\n",
       " 'Omega_de': 0.6897597001570639,\n",
       " 'h': 0.6762254,\n",
       " '10^9 A_s': 2.0,\n",
       " 'ln(10^10 A_s)': 2.995732273553991,\n",
       " 'n_s': 0.99153272}"
      ]
     },
     "execution_count": 8,
     "metadata": {},
     "output_type": "execute_result"
    }
   ],
   "source": [
    "convert_for_sim(cparams)"
   ]
  },
  {
   "cell_type": "code",
   "execution_count": 9,
   "id": "f1f5ba25-5ac6-4753-9223-26c27657eac1",
   "metadata": {},
   "outputs": [
    {
     "data": {
      "text/plain": [
       "{'omega_b': 0.0222553729,\n",
       " 'omega_c': 0.11961155700000003,\n",
       " 'Omega_m': 0.3102402998429362,\n",
       " 'Omega_b': 0.048668943258864124,\n",
       " 'Omega_de': 0.6897597001570638,\n",
       " 'h': 0.6762254,\n",
       " '10^9 A_s': 2.0,\n",
       " 'ln(10^10 A_s)': 2.995732273553991,\n",
       " 'n_s': 0.99153272}"
      ]
     },
     "execution_count": 9,
     "metadata": {},
     "output_type": "execute_result"
    }
   ],
   "source": [
    "convert_for_sim(convert_to_zeromnu(cparams), omega_nu=0)"
   ]
  },
  {
   "cell_type": "code",
   "execution_count": 10,
   "id": "4014d535-700b-443d-8f9a-46b2f3ffe2c9",
   "metadata": {},
   "outputs": [
    {
     "data": {
      "text/plain": [
       "0.0006441999999999976"
      ]
     },
     "execution_count": 10,
     "metadata": {},
     "output_type": "execute_result"
    }
   ],
   "source": [
    "0.119611557-0.118967357"
   ]
  },
  {
   "cell_type": "code",
   "execution_count": 11,
   "id": "71b74825-ec64-47fc-9e47-4fdf10193961",
   "metadata": {},
   "outputs": [
    {
     "data": {
      "text/plain": [
       "(0.6762254, 0.7965218422356609)"
      ]
     },
     "execution_count": 11,
     "metadata": {},
     "output_type": "execute_result"
    }
   ],
   "source": [
    "derived_parameters(cparams, omega_nu=0.0006442)"
   ]
  },
  {
   "cell_type": "code",
   "execution_count": 12,
   "id": "cef678e3-8f6f-4479-952c-5cc5df87fb7d",
   "metadata": {},
   "outputs": [],
   "source": [
    "def get_transfer_class(cparam, omega_nu, kh, redshift=1.):\n",
    "    #set parameters to configure CLASS computations\n",
    "    params = {\n",
    "        'omega_b': cparam[0],\n",
    "        'omega_cdm': cparam[1],\n",
    "        'A_s': cparam[2],\n",
    "        'n_s': cparam[3],\n",
    "        'N_ur': 2.0328,\n",
    "        'N_ncdm' : 1.0,\n",
    "        'omega_ncdm' : omega_nu,\n",
    "#         '100*theta_s' : 1.041533, #from Summit paper\n",
    "        'h': cparam[4],\n",
    "        'recombination' : 'HyRec',\n",
    "        'tau_reio' : 0.0544,\n",
    "        'z_pk': redshift,\n",
    "        'non linear' : 'none',#option for computing non-linear power spectum\n",
    "        'P_k_max_1/Mpc': 10.0,\n",
    "        'k_pivot': 0.05,\n",
    "        'output':'tCl,pCl,lCl,mPk,dTk' # Boryana setting\n",
    "#         'output': 'mPk' #which quantities we want CLASS to compute\n",
    "    }\n",
    "    \n",
    "    #initialize Class instance and set parameters\n",
    "    cosmo = Class()\n",
    "    cosmo.set(params)\n",
    "    cosmo.compute()\n",
    "    \n",
    "    dparams = {'h': cosmo.h(), 'sigma_8': cosmo.sigma(8/cosmo.h(), redshift)}\n",
    "    \n",
    "    # Class linear matter power spectrum\n",
    "    h = cosmo.h()\n",
    "    pk_lin = np.array([cosmo.pk_lin(ki, redshift) for ki in kh]) * h**3 # in unit of (Mpc/h)^3\n",
    "    pk_lin_data = {'k [h/Mpc]': kh/h, 'P(k) [(Mpc/h)^3]': pk_lin}\n",
    "    \n",
    "    # primordial power spectrum of the scalar perturbations\n",
    "    A_s = cparam[2]\n",
    "    n_s = cparam[3]\n",
    "    k_pivot = params['k_pivot']\n",
    "    pk_prim = A_s * (kh/k_pivot)**(n_s-1)\n",
    "    \n",
    "    # transfer function\n",
    "    tk = np.sqrt((pk_lin/(h**3) / pk_prim) / (kh**4/(kh**3/(2*np.pi**2))))\n",
    "    trans_data = {'k [1/Mpc]': kh, 'T(k)': tk}\n",
    "    \n",
    "    return trans_data, pk_lin_data, dparams\n",
    "\n",
    "def get_transfer_class_3deg(cparam, sum_mnu, kh, redshift=1.):\n",
    "    #set parameters to configure CLASS computations\n",
    "    params = {\n",
    "        'omega_b': cparam[0],\n",
    "        'omega_cdm': cparam[1],\n",
    "        'A_s': cparam[2],\n",
    "        'n_s': cparam[3],\n",
    "        'N_ur': 0.00641,\n",
    "        'N_ncdm': 1,\n",
    "        'deg_ncdm': 3,\n",
    "        'm_ncdm': sum_mnu/3,\n",
    "        #         '100*theta_s' : 1.041533, #from Summit paper\n",
    "        'h': cparam[4],\n",
    "        'recombination' : 'HyRec',\n",
    "        'tau_reio' : 0.0544,\n",
    "        'z_pk': redshift,\n",
    "        'non linear' : 'none',#option for computing non-linear power spectum\n",
    "        'P_k_max_1/Mpc': 10.0,\n",
    "        'k_pivot': 0.05,\n",
    "        'output':'tCl,pCl,lCl,mPk,dTk' # Boryana setting\n",
    "#         'output': 'mPk' #which quantities we want CLASS to compute\n",
    "    }\n",
    "    \n",
    "    #initialize Class instance and set parameters\n",
    "    cosmo = Class()\n",
    "    cosmo.set(params)\n",
    "    cosmo.compute()\n",
    "    \n",
    "    dparams = {'h': cosmo.h(), 'sigma_8': cosmo.sigma(8/cosmo.h(), redshift)}\n",
    "    \n",
    "    # Class linear matter power spectrum\n",
    "    h = cosmo.h()\n",
    "    pk_lin = np.array([cosmo.pk_lin(ki, redshift) for ki in kh]) * h**3 # in unit of (Mpc/h)^3\n",
    "    pk_lin_data = {'k [h/Mpc]': kh/h, 'P(k) [(Mpc/h)^3]': pk_lin}\n",
    "    \n",
    "    # primordial power spectrum of the scalar perturbations\n",
    "    A_s = cparam[2]\n",
    "    n_s = cparam[3]\n",
    "    k_pivot = params['k_pivot']\n",
    "    pk_prim = A_s * (kh/k_pivot)**(n_s-1)\n",
    "    \n",
    "    # transfer function\n",
    "    tk = np.sqrt((pk_lin/(h**3) / pk_prim) / (kh**4/(kh**3/(2*np.pi**2))))\n",
    "    trans_data = {'k [1/Mpc]': kh, 'T(k)': tk}\n",
    "    \n",
    "    return trans_data, pk_lin_data, dparams\n",
    "\n"
   ]
  },
  {
   "cell_type": "code",
   "execution_count": 13,
   "id": "92cd0c14-f8a6-4a15-83f1-96b915cbaab2",
   "metadata": {},
   "outputs": [
    {
     "data": {
      "text/plain": [
       "{'h': 0.6762254, 'sigma_8': 0.4932939140955841}"
      ]
     },
     "execution_count": 13,
     "metadata": {},
     "output_type": "execute_result"
    }
   ],
   "source": [
    "## running CLASS for z=1, omega_nu=0\n",
    "kh = np.geomspace(1e-7,1,1000)\n",
    "redshift = 1\n",
    "\n",
    "omega_nu = 0\n",
    "trans_data0, pk_lin_data0, dparams0 = get_transfer_class(convert_to_zeromnu(cparams), omega_nu, kh, redshift)\n",
    "dparams0"
   ]
  },
  {
   "cell_type": "code",
   "execution_count": 14,
   "id": "82401f9f-b30b-46ef-a8e2-8631129bc209",
   "metadata": {},
   "outputs": [
    {
     "name": "stdout",
     "output_type": "stream",
     "text": [
      "{'h': 0.6762254, 'sigma_8': 0.48518549205028855}\n",
      "{'h': 0.6762254, 'sigma_8': 0.4861458284620574}\n"
     ]
    }
   ],
   "source": [
    "## running CLASS for z=1, omega_nu=0.0006442\n",
    "omega_nu = 0.0006442\n",
    "sum_mnu = 0.06\n",
    "trans_data, pk_lin_data, dparams = get_transfer_class(cparams, omega_nu, kh, redshift)\n",
    "print(dparams)\n",
    "\n",
    "trans_data_3nu, pk_lin_data_3nu, dparams = get_transfer_class_3deg(cparams, sum_mnu, kh, redshift)\n",
    "print(dparams)\n",
    "\n",
    "pk_lin_ratio = (pk_lin_data['P(k) [(Mpc/h)^3]'] / pk_lin_data0['P(k) [(Mpc/h)^3]'])\n",
    "pk_lin_ratio_3nu = (pk_lin_data_3nu['P(k) [(Mpc/h)^3]'] / pk_lin_data0['P(k) [(Mpc/h)^3]'])\n"
   ]
  },
  {
   "cell_type": "markdown",
   "id": "1bcf6b97",
   "metadata": {},
   "source": [
    "## Non-linear power spectra from aemulus-$\\nu$"
   ]
  },
  {
   "cell_type": "code",
   "execution_count": 15,
   "id": "8aacabd6-4de3-4cbe-94b1-f85121062591",
   "metadata": {},
   "outputs": [
    {
     "ename": "TypeError",
     "evalue": "sigma() got an unexpected keyword argument 'h_units'",
     "output_type": "error",
     "traceback": [
      "\u001b[0;31m---------------------------------------------------------------------------\u001b[0m",
      "\u001b[0;31mTypeError\u001b[0m                                 Traceback (most recent call last)",
      "Input \u001b[0;32mIn [15]\u001b[0m, in \u001b[0;36m<cell line: 6>\u001b[0;34m()\u001b[0m\n\u001b[1;32m      4\u001b[0m k \u001b[38;5;241m=\u001b[39m kh\n\u001b[1;32m      5\u001b[0m cosmo_nu \u001b[38;5;241m=\u001b[39m [cparams[\u001b[38;5;241m0\u001b[39m], cparams[\u001b[38;5;241m1\u001b[39m], \u001b[38;5;241m-\u001b[39m\u001b[38;5;241m1\u001b[39m, cparams[\u001b[38;5;241m3\u001b[39m], cparams[\u001b[38;5;241m2\u001b[39m]\u001b[38;5;241m*\u001b[39m\u001b[38;5;241m1.e9\u001b[39m, cparams[\u001b[38;5;241m4\u001b[39m]\u001b[38;5;241m*\u001b[39m\u001b[38;5;241m100.\u001b[39m, mnu]\n\u001b[0;32m----> 6\u001b[0m spec_lpt, sigma8z \u001b[38;5;241m=\u001b[39m \u001b[43mlpt_spectra\u001b[49m\u001b[43m(\u001b[49m\u001b[43mk\u001b[49m\u001b[43m,\u001b[49m\u001b[43m \u001b[49m\u001b[43mredshift\u001b[49m\u001b[43m,\u001b[49m\u001b[43m \u001b[49m\u001b[43mcosmo_nu\u001b[49m\u001b[43m)\u001b[49m\n\u001b[1;32m      7\u001b[0m cosmo_nu\u001b[38;5;241m.\u001b[39mappend(sigma8z)\n\u001b[1;32m      8\u001b[0m \u001b[38;5;66;03m#M_nu = 0, increase ocdmh2 to keep Om constant\u001b[39;00m\n",
      "File \u001b[0;32m~/conda-envs/py39forge/lib/python3.9/site-packages/aemulus_heft/utils.py:79\u001b[0m, in \u001b[0;36mlpt_spectra\u001b[0;34m(k, z, cosmo, pkclass)\u001b[0m\n\u001b[1;32m     76\u001b[0m     pkclass\u001b[38;5;241m.\u001b[39mset(cosmo_dict)\n\u001b[1;32m     77\u001b[0m     pkclass\u001b[38;5;241m.\u001b[39mcompute()\n\u001b[0;32m---> 79\u001b[0m sigma8z \u001b[38;5;241m=\u001b[39m \u001b[43mpkclass\u001b[49m\u001b[38;5;241;43m.\u001b[39;49m\u001b[43msigma\u001b[49m\u001b[43m(\u001b[49m\u001b[38;5;241;43m8\u001b[39;49m\u001b[43m,\u001b[49m\u001b[43m \u001b[49m\u001b[43mz\u001b[49m\u001b[43m,\u001b[49m\u001b[43m \u001b[49m\u001b[43mh_units\u001b[49m\u001b[38;5;241;43m=\u001b[39;49m\u001b[38;5;28;43;01mTrue\u001b[39;49;00m\u001b[43m)\u001b[49m\n\u001b[1;32m     80\u001b[0m kt \u001b[38;5;241m=\u001b[39m np\u001b[38;5;241m.\u001b[39mlogspace(\u001b[38;5;241m-\u001b[39m\u001b[38;5;241m3\u001b[39m, \u001b[38;5;241m1\u001b[39m, \u001b[38;5;241m100\u001b[39m)\n\u001b[1;32m     82\u001b[0m pk_m_lin \u001b[38;5;241m=\u001b[39m np\u001b[38;5;241m.\u001b[39marray(\n\u001b[1;32m     83\u001b[0m     [\n\u001b[1;32m     84\u001b[0m         pkclass\u001b[38;5;241m.\u001b[39mpk_lin(ki, np\u001b[38;5;241m.\u001b[39marray([z])) \u001b[38;5;241m*\u001b[39m h \u001b[38;5;241m*\u001b[39m\u001b[38;5;241m*\u001b[39m \u001b[38;5;241m3\u001b[39m\n\u001b[1;32m     85\u001b[0m         \u001b[38;5;28;01mfor\u001b[39;00m ki \u001b[38;5;129;01min\u001b[39;00m kt \u001b[38;5;241m*\u001b[39m h\n\u001b[1;32m     86\u001b[0m     ]\n\u001b[1;32m     87\u001b[0m )\n",
      "File \u001b[0;32mclassy.pyx:956\u001b[0m, in \u001b[0;36mclassy.Class.sigma\u001b[0;34m()\u001b[0m\n",
      "\u001b[0;31mTypeError\u001b[0m: sigma() got an unexpected keyword argument 'h_units'"
     ]
    }
   ],
   "source": [
    "# Compute KECLEFT spectra to use as inputs for HEFT emulator\n",
    "# (ombh2, ocdmh2, w0, ns, 10^9 As, H0, mnu)\n",
    "mnu = 0.06\n",
    "k = kh\n",
    "cosmo_nu = [cparams[0], cparams[1], -1, cparams[3], cparams[2]*1.e9, cparams[4]*100., mnu]\n",
    "spec_lpt, sigma8z = lpt_spectra(k, redshift, cosmo_nu)\n",
    "cosmo_nu.append(sigma8z)\n",
    "#M_nu = 0, increase ocdmh2 to keep Om constant\n",
    "cosmo_nu0 = [cparams[0], cparams[1]+mnu/93.12, -1, cparams[3], cparams[2]*1.e9, cparams[4]*100., 0.0]\n",
    "spec_lpt_nu0, sigma8z_nu0 = lpt_spectra(k, redshift, cosmo_nu0)\n",
    "cosmo_nu0.append(sigma8z_nu0)\n",
    "\n",
    "emu = HEFTEmulator()\n",
    "pnl_nu = emu.predict(k, np.array(cosmo_nu), spec_lpt)\n",
    "pnl_nu0 = emu.predict(k, np.array(cosmo_nu0), spec_lpt_nu0)\n",
    "\n",
    "pk_nl_ratio = pnl_nu[0,:]/pnl_nu0[0,:]"
   ]
  },
  {
   "cell_type": "code",
   "execution_count": 20,
   "id": "223b8842",
   "metadata": {},
   "outputs": [
    {
     "data": {
      "text/plain": [
       "<matplotlib.legend.Legend at 0x2b9552928d60>"
      ]
     },
     "execution_count": 20,
     "metadata": {},
     "output_type": "execute_result"
    },
    {
     "data": {
      "image/png": "[encoded data removed]",
      "text/plain": [
       "<Figure size 800x600 with 1 Axes>"
      ]
     },
     "metadata": {},
     "output_type": "display_data"
    }
   ],
   "source": [
    "plt.plot(kh,pk_lin_ratio,ls = ':',c = 'k', label = r'$P_{\\rm{lin}}$, one $\\nu$')\n",
    "plt.plot(kh,pk_lin_ratio_3nu,ls = '--',c = 'k', label = r'$P_{\\rm{lin}}$, 3 degenerate $\\nu$')\n",
    "#plt.plot(k, pk_nl_ratio,ls = '-',c = 'b',label = r'$P_{\\rm{nl}}$, aemulus-$\\nu$')\n",
    "plt.xlabel(r'$k\\,\\,[h/\\rm{Mpc}]$');\n",
    "plt.ylabel(r'$P_{m_\\nu =0.06}/P_{m_\\nu =0}$');\n",
    "plt.xlim(0,0.5)\n",
    "plt.ylim(0.95,1.01)\n",
    "plt.legend(frameon=False,fontsize=20)"
   ]
  },
  {
   "cell_type": "code",
   "execution_count": null,
   "id": "ad1c6175",
   "metadata": {},
   "outputs": [],
   "source": []
  }
 ],
 "metadata": {
  "kernelspec": {
   "display_name": "Python 3 (ipykernel)",
   "language": "python",
   "name": "python3"
  },
  "language_info": {
   "codemirror_mode": {
    "name": "ipython",
    "version": 3
   },
   "file_extension": ".py",
   "mimetype": "text/x-python",
   "name": "python",
   "nbconvert_exporter": "python",
   "pygments_lexer": "ipython3",
   "version": "3.9.13"
  }
 },
 "nbformat": 4,
 "nbformat_minor": 5
}
