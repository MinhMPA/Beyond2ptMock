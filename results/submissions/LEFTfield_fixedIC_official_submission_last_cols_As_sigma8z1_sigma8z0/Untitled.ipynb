{
 "cells": [
  {
   "cell_type": "code",
   "execution_count": 61,
   "id": "e076bac2-2467-4d31-8ec5-eb360e49fa21",
   "metadata": {},
   "outputs": [],
   "source": [
    "import numpy as np\n",
    "import scipy as sp\n",
    "import matplotlib\n",
    "import matplotlib.pyplot as plt\n",
    "from matplotlib.pyplot import cm\n",
    "plt.style.use('Minh_paper_style') # comment this line and specify your style instead\n",
    "\n",
    "from getdist import loadMCSamples\n",
    "analysis_settings={'ignore_rows':0.0}"
   ]
  },
  {
   "cell_type": "code",
   "execution_count": 62,
   "id": "a6096b92-d8b0-4c4c-9a57-620460a3569e",
   "metadata": {},
   "outputs": [],
   "source": [
    "MCMC_chain1_path='./sampling_bO_2lptsecond_nufft_FOURIER_NGEul1024_L0.14_cube_fixed_highsigma_CLASS_largestep_logP_params_including_As_sigma8z_1'\n",
    "MCMC_chain2_path='./sampling_bO_2lptsecond_nufft_FOURIER_NGEul1024_L0.14_cube_fixed_highsigma_CLASS_largestep_logP_params_including_As_sigma8z_2'"
   ]
  },
  {
   "cell_type": "code",
   "execution_count": 63,
   "id": "328bf282-a884-49fd-aace-1840ac475278",
   "metadata": {},
   "outputs": [
    {
     "name": "stdout",
     "output_type": "stream",
     "text": [
      "./sampling_bO_2lptsecond_nufft_FOURIER_NGEul1024_L0.14_cube_fixed_highsigma_CLASS_largestep_logP_params_including_As_sigma8z_1.txt\n",
      "Removed no burn in\n",
      "./sampling_bO_2lptsecond_nufft_FOURIER_NGEul1024_L0.14_cube_fixed_highsigma_CLASS_largestep_logP_params_including_As_sigma8z_2.txt\n",
      "Removed no burn in\n"
     ]
    }
   ],
   "source": [
    "MCMC_chain1 = loadMCSamples(MCMC_chain1_path, settings=analysis_settings)\n",
    "MCMC_chain2 = loadMCSamples(MCMC_chain2_path, settings=analysis_settings)"
   ]
  },
  {
   "cell_type": "code",
   "execution_count": 64,
   "id": "2d63174e-db74-4ef6-807f-c7f770d5e3d0",
   "metadata": {},
   "outputs": [
    {
     "data": {
      "text/plain": [
       "0.7276606867274493"
      ]
     },
     "execution_count": 64,
     "metadata": {},
     "output_type": "execute_result"
    }
   ],
   "source": [
    "MCMC_chain1.mean('sigma8_z0')"
   ]
  },
  {
   "cell_type": "code",
   "execution_count": 65,
   "id": "6c73f58e-f1da-44bc-ba8f-d033f6e7b3d9",
   "metadata": {},
   "outputs": [
    {
     "data": {
      "text/plain": [
       "0.7291487535314223"
      ]
     },
     "execution_count": 65,
     "metadata": {},
     "output_type": "execute_result"
    }
   ],
   "source": [
    "MCMC_chain2.mean('sigma8_z0')"
   ]
  },
  {
   "cell_type": "code",
   "execution_count": 66,
   "id": "2be27593-851d-44ee-8910-03c74da71c15",
   "metadata": {},
   "outputs": [
    {
     "name": "stdout",
     "output_type": "stream",
     "text": [
      "Removed no burn in\n"
     ]
    }
   ],
   "source": [
    "MCMC_fixedIC_chain=MCMC_chain1.getCombinedSamplesWithSamples(MCMC_chain2)"
   ]
  },
  {
   "cell_type": "code",
   "execution_count": 72,
   "id": "a6d2b0b8-1912-425f-a381-796f856a379d",
   "metadata": {},
   "outputs": [
    {
     "data": {
      "text/plain": [
       "0.7284047201294358"
      ]
     },
     "execution_count": 72,
     "metadata": {},
     "output_type": "execute_result"
    }
   ],
   "source": [
    "MCMC_fixedIC_chain.mean('sigma8_z0')"
   ]
  },
  {
   "cell_type": "code",
   "execution_count": 68,
   "id": "4d8b3262-e816-4c51-8623-cfc5cfe2f8b4",
   "metadata": {},
   "outputs": [],
   "source": [
    "MCMC_freeIC_chain_path='../LEFTfield_freeIC_official_submission_last_cols_As_sigma8z1_sigma8z0/sampling_bO_shat_2lptsecond_nufft_FOURIER_NGEul1024_L0.14_cube_logP_params_including_As_sigma8z'"
   ]
  },
  {
   "cell_type": "code",
   "execution_count": 69,
   "id": "c097ab43-209e-404c-beac-b2090bed25f8",
   "metadata": {},
   "outputs": [
    {
     "name": "stdout",
     "output_type": "stream",
     "text": [
      "../LEFTfield_freeIC_official_submission_last_cols_As_sigma8z1_sigma8z0/sampling_bO_shat_2lptsecond_nufft_FOURIER_NGEul1024_L0.14_cube_logP_params_including_As_sigma8z.2.txt\n",
      "../LEFTfield_freeIC_official_submission_last_cols_As_sigma8z1_sigma8z0/sampling_bO_shat_2lptsecond_nufft_FOURIER_NGEul1024_L0.14_cube_logP_params_including_As_sigma8z.1.txt\n",
      "Removed no burn in\n"
     ]
    }
   ],
   "source": [
    "MCMC_freeIC_chain = loadMCSamples(MCMC_freeIC_chain_path,settings=analysis_settings)"
   ]
  },
  {
   "cell_type": "code",
   "execution_count": 70,
   "id": "d8c4c811-e419-4841-b7b9-b262ef2db79c",
   "metadata": {},
   "outputs": [
    {
     "data": {
      "text/plain": [
       "0.7031986586275607"
      ]
     },
     "execution_count": 70,
     "metadata": {},
     "output_type": "execute_result"
    }
   ],
   "source": [
    "MCMC_freeIC_chain.mean('sigma8_z0')"
   ]
  },
  {
   "cell_type": "code",
   "execution_count": 77,
   "id": "cd1d4f72-f6ef-4433-a426-785de38fd30b",
   "metadata": {},
   "outputs": [
    {
     "data": {
      "text/plain": [
       "-0.036714166263615455"
      ]
     },
     "execution_count": 77,
     "metadata": {},
     "output_type": "execute_result"
    }
   ],
   "source": [
    "(MCMC_freeIC_chain.mean('sigma8_z0')-0.73)/0.73"
   ]
  },
  {
   "cell_type": "code",
   "execution_count": null,
   "id": "6e31af4a-6fda-4dec-b1e4-d9b93e0d7396",
   "metadata": {},
   "outputs": [],
   "source": []
  }
 ],
 "metadata": {
  "kernelspec": {
   "display_name": "Python 3 (ipykernel)",
   "language": "python",
   "name": "python3"
  },
  "language_info": {
   "codemirror_mode": {
    "name": "ipython",
    "version": 3
   },
   "file_extension": ".py",
   "mimetype": "text/x-python",
   "name": "python",
   "nbconvert_exporter": "python",
   "pygments_lexer": "ipython3",
   "version": "3.10.13"
  }
 },
 "nbformat": 4,
 "nbformat_minor": 5
}
